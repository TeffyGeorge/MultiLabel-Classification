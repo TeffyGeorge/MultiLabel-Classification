{
  "cells": [
    {
      "cell_type": "markdown",
      "metadata": {
        "id": "Vl3eIEYFkgP7"
      },
      "source": [
        "<h1 align='center'><b><font color ='pickle'>HW 6</b></h1>\n",
        "\n",
        "\n"
      ]
    },
    {
      "cell_type": "markdown",
      "metadata": {
        "id": "FIxAU6f3S-MI"
      },
      "source": [
        "# <Font color = 'pickle'>**Load Libraries/Install Software**"
      ]
    },
    {
      "cell_type": "code",
      "execution_count": 2,
      "metadata": {
        "execution": {
          "iopub.execute_input": "2022-10-02T10:35:35.790529Z",
          "iopub.status.busy": "2022-10-02T10:35:35.790311Z",
          "iopub.status.idle": "2022-10-02T10:35:35.800037Z",
          "shell.execute_reply": "2022-10-02T10:35:35.799579Z",
          "shell.execute_reply.started": "2022-10-02T10:35:35.790485Z"
        },
        "id": "silZTZDXNSGU"
      },
      "outputs": [],
      "source": [
        "%load_ext autoreload\n",
        "%autoreload 2"
      ]
    },
    {
      "cell_type": "code",
      "execution_count": 3,
      "metadata": {
        "colab": {
          "base_uri": "https://localhost:8080/"
        },
        "execution": {
          "iopub.execute_input": "2022-10-02T10:35:36.754664Z",
          "iopub.status.busy": "2022-10-02T10:35:36.754227Z",
          "iopub.status.idle": "2022-10-02T10:35:36.760593Z",
          "shell.execute_reply": "2022-10-02T10:35:36.760035Z",
          "shell.execute_reply.started": "2022-10-02T10:35:36.754648Z"
        },
        "id": "-h5a-vtFb738",
        "outputId": "8cce31cd-c25c-4c60-f972-277804e42304",
        "tags": []
      },
      "outputs": [
        {
          "output_type": "stream",
          "name": "stdout",
          "text": [
            "Running on CoLab\n"
          ]
        }
      ],
      "source": [
        "if 'google.colab' in str(get_ipython()):\n",
        "  print('Running on CoLab')\n",
        "else:\n",
        "  print('Not running on CoLab')"
      ]
    },
    {
      "cell_type": "code",
      "execution_count": 4,
      "metadata": {
        "execution": {
          "iopub.execute_input": "2022-10-02T10:35:37.679455Z",
          "iopub.status.busy": "2022-10-02T10:35:37.679286Z",
          "iopub.status.idle": "2022-10-02T10:35:37.685382Z",
          "shell.execute_reply": "2022-10-02T10:35:37.684911Z",
          "shell.execute_reply.started": "2022-10-02T10:35:37.679443Z"
        },
        "id": "q4OpOEo0QktF",
        "tags": [],
        "colab": {
          "base_uri": "https://localhost:8080/"
        },
        "outputId": "2f3cf0d4-73bb-49f3-906b-196e054b843b"
      },
      "outputs": [
        {
          "output_type": "stream",
          "name": "stdout",
          "text": [
            "\u001b[K     |████████████████████████████████| 1.9 MB 3.9 MB/s \n",
            "\u001b[K     |████████████████████████████████| 166 kB 70.3 MB/s \n",
            "\u001b[K     |████████████████████████████████| 182 kB 76.9 MB/s \n",
            "\u001b[K     |████████████████████████████████| 63 kB 1.8 MB/s \n",
            "\u001b[K     |████████████████████████████████| 166 kB 72.3 MB/s \n",
            "\u001b[K     |████████████████████████████████| 162 kB 73.6 MB/s \n",
            "\u001b[K     |████████████████████████████████| 162 kB 72.9 MB/s \n",
            "\u001b[K     |████████████████████████████████| 158 kB 75.9 MB/s \n",
            "\u001b[K     |████████████████████████████████| 157 kB 74.5 MB/s \n",
            "\u001b[K     |████████████████████████████████| 157 kB 75.4 MB/s \n",
            "\u001b[K     |████████████████████████████████| 157 kB 75.4 MB/s \n",
            "\u001b[K     |████████████████████████████████| 157 kB 74.2 MB/s \n",
            "\u001b[K     |████████████████████████████████| 157 kB 77.2 MB/s \n",
            "\u001b[K     |████████████████████████████████| 157 kB 76.6 MB/s \n",
            "\u001b[K     |████████████████████████████████| 157 kB 74.6 MB/s \n",
            "\u001b[K     |████████████████████████████████| 156 kB 69.4 MB/s \n",
            "\u001b[?25h  Building wheel for pathtools (setup.py) ... \u001b[?25l\u001b[?25hdone\n"
          ]
        }
      ],
      "source": [
        "# Install wandb and update it to the latest version\n",
        "if 'google.colab' in str(get_ipython()):\n",
        "    !pip install wandb --upgrade -q"
      ]
    },
    {
      "cell_type": "code",
      "execution_count": 5,
      "metadata": {
        "colab": {
          "base_uri": "https://localhost:8080/"
        },
        "execution": {
          "iopub.execute_input": "2022-10-02T10:35:38.966991Z",
          "iopub.status.busy": "2022-10-02T10:35:38.966806Z",
          "iopub.status.idle": "2022-10-02T10:35:38.974840Z",
          "shell.execute_reply": "2022-10-02T10:35:38.974410Z",
          "shell.execute_reply.started": "2022-10-02T10:35:38.966978Z"
        },
        "id": "m7C0tvyKoy6f",
        "outputId": "71cb8b4a-9bb8-46ee-cd46-e4910fc5bdfe",
        "tags": []
      },
      "outputs": [
        {
          "output_type": "stream",
          "name": "stdout",
          "text": [
            "Mounted at /content/drive\n"
          ]
        }
      ],
      "source": [
        "# mount google drive\n",
        "if 'google.colab' in str(get_ipython()):\n",
        "    from google.colab import drive\n",
        "    drive.mount('/content/drive')"
      ]
    },
    {
      "cell_type": "code",
      "execution_count": 6,
      "metadata": {
        "execution": {
          "iopub.execute_input": "2022-10-02T10:35:51.980836Z",
          "iopub.status.busy": "2022-10-02T10:35:51.980539Z",
          "iopub.status.idle": "2022-10-02T10:35:52.005949Z",
          "shell.execute_reply": "2022-10-02T10:35:52.005549Z",
          "shell.execute_reply.started": "2022-10-02T10:35:51.980815Z"
        },
        "id": "TqYqOtp5yluv",
        "tags": []
      },
      "outputs": [],
      "source": [
        "# Importing the necessary libraries\n",
        "import torch\n",
        "import torch.nn as nn\n",
        "import torch.nn.functional as F\n",
        "import numpy as np\n",
        "from pathlib import Path\n",
        "import wandb\n",
        "import spacy\n",
        "import sys\n",
        "from datetime import datetime\n",
        "\n",
        "import pandas as pd\n",
        "import joblib\n",
        "\n",
        "from sklearn.model_selection import train_test_split\n",
        "from sklearn.feature_extraction.text import  TfidfVectorizer"
      ]
    },
    {
      "cell_type": "code",
      "execution_count": 7,
      "metadata": {
        "execution": {
          "iopub.execute_input": "2022-10-02T10:36:16.384425Z",
          "iopub.status.busy": "2022-10-02T10:36:16.384181Z",
          "iopub.status.idle": "2022-10-02T10:36:16.406240Z",
          "shell.execute_reply": "2022-10-02T10:36:16.405758Z",
          "shell.execute_reply.started": "2022-10-02T10:36:16.384410Z"
        },
        "id": "DMbfI4z8N-a9",
        "tags": [],
        "colab": {
          "base_uri": "https://localhost:8080/"
        },
        "outputId": "0adeb16a-a912-4973-8a71-bfbee57e5002"
      },
      "outputs": [
        {
          "output_type": "stream",
          "name": "stdout",
          "text": [
            "2022-11-09 21:37:31.240797: E tensorflow/stream_executor/cuda/cuda_driver.cc:271] failed call to cuInit: CUDA_ERROR_NO_DEVICE: no CUDA-capable device is detected\n",
            "Looking in indexes: https://pypi.org/simple, https://us-python.pkg.dev/colab-wheels/public/simple/\n",
            "Collecting en-core-web-sm==3.4.1\n",
            "  Downloading https://github.com/explosion/spacy-models/releases/download/en_core_web_sm-3.4.1/en_core_web_sm-3.4.1-py3-none-any.whl (12.8 MB)\n",
            "\u001b[K     |████████████████████████████████| 12.8 MB 4.3 MB/s \n",
            "\u001b[?25hRequirement already satisfied: spacy<3.5.0,>=3.4.0 in /usr/local/lib/python3.7/dist-packages (from en-core-web-sm==3.4.1) (3.4.2)\n",
            "Requirement already satisfied: langcodes<4.0.0,>=3.2.0 in /usr/local/lib/python3.7/dist-packages (from spacy<3.5.0,>=3.4.0->en-core-web-sm==3.4.1) (3.3.0)\n",
            "Requirement already satisfied: jinja2 in /usr/local/lib/python3.7/dist-packages (from spacy<3.5.0,>=3.4.0->en-core-web-sm==3.4.1) (2.11.3)\n",
            "Requirement already satisfied: numpy>=1.15.0 in /usr/local/lib/python3.7/dist-packages (from spacy<3.5.0,>=3.4.0->en-core-web-sm==3.4.1) (1.21.6)\n",
            "Requirement already satisfied: typer<0.5.0,>=0.3.0 in /usr/local/lib/python3.7/dist-packages (from spacy<3.5.0,>=3.4.0->en-core-web-sm==3.4.1) (0.4.2)\n",
            "Requirement already satisfied: spacy-legacy<3.1.0,>=3.0.10 in /usr/local/lib/python3.7/dist-packages (from spacy<3.5.0,>=3.4.0->en-core-web-sm==3.4.1) (3.0.10)\n",
            "Requirement already satisfied: spacy-loggers<2.0.0,>=1.0.0 in /usr/local/lib/python3.7/dist-packages (from spacy<3.5.0,>=3.4.0->en-core-web-sm==3.4.1) (1.0.3)\n",
            "Requirement already satisfied: typing-extensions<4.2.0,>=3.7.4 in /usr/local/lib/python3.7/dist-packages (from spacy<3.5.0,>=3.4.0->en-core-web-sm==3.4.1) (4.1.1)\n",
            "Requirement already satisfied: setuptools in /usr/local/lib/python3.7/dist-packages (from spacy<3.5.0,>=3.4.0->en-core-web-sm==3.4.1) (57.4.0)\n",
            "Requirement already satisfied: cymem<2.1.0,>=2.0.2 in /usr/local/lib/python3.7/dist-packages (from spacy<3.5.0,>=3.4.0->en-core-web-sm==3.4.1) (2.0.7)\n",
            "Requirement already satisfied: thinc<8.2.0,>=8.1.0 in /usr/local/lib/python3.7/dist-packages (from spacy<3.5.0,>=3.4.0->en-core-web-sm==3.4.1) (8.1.5)\n",
            "Requirement already satisfied: murmurhash<1.1.0,>=0.28.0 in /usr/local/lib/python3.7/dist-packages (from spacy<3.5.0,>=3.4.0->en-core-web-sm==3.4.1) (1.0.9)\n",
            "Requirement already satisfied: pathy>=0.3.5 in /usr/local/lib/python3.7/dist-packages (from spacy<3.5.0,>=3.4.0->en-core-web-sm==3.4.1) (0.6.2)\n",
            "Requirement already satisfied: tqdm<5.0.0,>=4.38.0 in /usr/local/lib/python3.7/dist-packages (from spacy<3.5.0,>=3.4.0->en-core-web-sm==3.4.1) (4.64.1)\n",
            "Requirement already satisfied: packaging>=20.0 in /usr/local/lib/python3.7/dist-packages (from spacy<3.5.0,>=3.4.0->en-core-web-sm==3.4.1) (21.3)\n",
            "Requirement already satisfied: preshed<3.1.0,>=3.0.2 in /usr/local/lib/python3.7/dist-packages (from spacy<3.5.0,>=3.4.0->en-core-web-sm==3.4.1) (3.0.8)\n",
            "Requirement already satisfied: wasabi<1.1.0,>=0.9.1 in /usr/local/lib/python3.7/dist-packages (from spacy<3.5.0,>=3.4.0->en-core-web-sm==3.4.1) (0.10.1)\n",
            "Requirement already satisfied: requests<3.0.0,>=2.13.0 in /usr/local/lib/python3.7/dist-packages (from spacy<3.5.0,>=3.4.0->en-core-web-sm==3.4.1) (2.23.0)\n",
            "Requirement already satisfied: pydantic!=1.8,!=1.8.1,<1.11.0,>=1.7.4 in /usr/local/lib/python3.7/dist-packages (from spacy<3.5.0,>=3.4.0->en-core-web-sm==3.4.1) (1.10.2)\n",
            "Requirement already satisfied: catalogue<2.1.0,>=2.0.6 in /usr/local/lib/python3.7/dist-packages (from spacy<3.5.0,>=3.4.0->en-core-web-sm==3.4.1) (2.0.8)\n",
            "Requirement already satisfied: srsly<3.0.0,>=2.4.3 in /usr/local/lib/python3.7/dist-packages (from spacy<3.5.0,>=3.4.0->en-core-web-sm==3.4.1) (2.4.5)\n",
            "Requirement already satisfied: zipp>=0.5 in /usr/local/lib/python3.7/dist-packages (from catalogue<2.1.0,>=2.0.6->spacy<3.5.0,>=3.4.0->en-core-web-sm==3.4.1) (3.10.0)\n",
            "Requirement already satisfied: pyparsing!=3.0.5,>=2.0.2 in /usr/local/lib/python3.7/dist-packages (from packaging>=20.0->spacy<3.5.0,>=3.4.0->en-core-web-sm==3.4.1) (3.0.9)\n",
            "Requirement already satisfied: smart-open<6.0.0,>=5.2.1 in /usr/local/lib/python3.7/dist-packages (from pathy>=0.3.5->spacy<3.5.0,>=3.4.0->en-core-web-sm==3.4.1) (5.2.1)\n",
            "Requirement already satisfied: urllib3!=1.25.0,!=1.25.1,<1.26,>=1.21.1 in /usr/local/lib/python3.7/dist-packages (from requests<3.0.0,>=2.13.0->spacy<3.5.0,>=3.4.0->en-core-web-sm==3.4.1) (1.24.3)\n",
            "Requirement already satisfied: idna<3,>=2.5 in /usr/local/lib/python3.7/dist-packages (from requests<3.0.0,>=2.13.0->spacy<3.5.0,>=3.4.0->en-core-web-sm==3.4.1) (2.10)\n",
            "Requirement already satisfied: chardet<4,>=3.0.2 in /usr/local/lib/python3.7/dist-packages (from requests<3.0.0,>=2.13.0->spacy<3.5.0,>=3.4.0->en-core-web-sm==3.4.1) (3.0.4)\n",
            "Requirement already satisfied: certifi>=2017.4.17 in /usr/local/lib/python3.7/dist-packages (from requests<3.0.0,>=2.13.0->spacy<3.5.0,>=3.4.0->en-core-web-sm==3.4.1) (2022.9.24)\n",
            "Requirement already satisfied: blis<0.8.0,>=0.7.8 in /usr/local/lib/python3.7/dist-packages (from thinc<8.2.0,>=8.1.0->spacy<3.5.0,>=3.4.0->en-core-web-sm==3.4.1) (0.7.9)\n",
            "Requirement already satisfied: confection<1.0.0,>=0.0.1 in /usr/local/lib/python3.7/dist-packages (from thinc<8.2.0,>=8.1.0->spacy<3.5.0,>=3.4.0->en-core-web-sm==3.4.1) (0.0.3)\n",
            "Requirement already satisfied: click<9.0.0,>=7.1.1 in /usr/local/lib/python3.7/dist-packages (from typer<0.5.0,>=0.3.0->spacy<3.5.0,>=3.4.0->en-core-web-sm==3.4.1) (7.1.2)\n",
            "Requirement already satisfied: MarkupSafe>=0.23 in /usr/local/lib/python3.7/dist-packages (from jinja2->spacy<3.5.0,>=3.4.0->en-core-web-sm==3.4.1) (2.0.1)\n",
            "\u001b[38;5;2m✔ Download and installation successful\u001b[0m\n",
            "You can now load the package via spacy.load('en_core_web_sm')\n"
          ]
        }
      ],
      "source": [
        "if 'google.colab' in str(get_ipython()):\n",
        "  !python -m spacy download 'en_core_web_sm'"
      ]
    },
    {
      "cell_type": "code",
      "execution_count": 8,
      "metadata": {
        "colab": {
          "base_uri": "https://localhost:8080/",
          "height": 158
        },
        "execution": {
          "iopub.execute_input": "2022-10-02T10:36:18.366715Z",
          "iopub.status.busy": "2022-10-02T10:36:18.366492Z",
          "iopub.status.idle": "2022-10-02T10:36:19.342975Z",
          "shell.execute_reply": "2022-10-02T10:36:19.342550Z",
          "shell.execute_reply.started": "2022-10-02T10:36:18.366701Z"
        },
        "id": "vsr_hAq78XFz",
        "outputId": "a5db5e88-7b9f-41c0-f354-147da503c807"
      },
      "outputs": [
        {
          "output_type": "stream",
          "name": "stderr",
          "text": [
            "ERROR:wandb.jupyter:Failed to detect the name of this notebook, you can set it manually with the WANDB_NOTEBOOK_NAME environment variable to enable code saving.\n"
          ]
        },
        {
          "output_type": "display_data",
          "data": {
            "text/plain": [
              "<IPython.core.display.Javascript object>"
            ],
            "application/javascript": [
              "\n",
              "        window._wandbApiKey = new Promise((resolve, reject) => {\n",
              "            function loadScript(url) {\n",
              "            return new Promise(function(resolve, reject) {\n",
              "                let newScript = document.createElement(\"script\");\n",
              "                newScript.onerror = reject;\n",
              "                newScript.onload = resolve;\n",
              "                document.body.appendChild(newScript);\n",
              "                newScript.src = url;\n",
              "            });\n",
              "            }\n",
              "            loadScript(\"https://cdn.jsdelivr.net/npm/postmate/build/postmate.min.js\").then(() => {\n",
              "            const iframe = document.createElement('iframe')\n",
              "            iframe.style.cssText = \"width:0;height:0;border:none\"\n",
              "            document.body.appendChild(iframe)\n",
              "            const handshake = new Postmate({\n",
              "                container: iframe,\n",
              "                url: 'https://wandb.ai/authorize'\n",
              "            });\n",
              "            const timeout = setTimeout(() => reject(\"Couldn't auto authenticate\"), 5000)\n",
              "            handshake.then(function(child) {\n",
              "                child.on('authorize', data => {\n",
              "                    clearTimeout(timeout)\n",
              "                    resolve(data)\n",
              "                });\n",
              "            });\n",
              "            })\n",
              "        });\n",
              "    "
            ]
          },
          "metadata": {}
        },
        {
          "output_type": "stream",
          "name": "stderr",
          "text": [
            "\u001b[34m\u001b[1mwandb\u001b[0m: Logging into wandb.ai. (Learn how to deploy a W&B server locally: https://wandb.me/wandb-server)\n",
            "\u001b[34m\u001b[1mwandb\u001b[0m: You can find your API key in your browser here: https://wandb.ai/authorize\n",
            "wandb: Paste an API key from your profile and hit enter, or press ctrl+c to quit: "
          ]
        },
        {
          "name": "stdout",
          "output_type": "stream",
          "text": [
            "··········\n"
          ]
        },
        {
          "output_type": "stream",
          "name": "stderr",
          "text": [
            "\u001b[34m\u001b[1mwandb\u001b[0m: Appending key for api.wandb.ai to your netrc file: /root/.netrc\n"
          ]
        },
        {
          "output_type": "execute_result",
          "data": {
            "text/plain": [
              "True"
            ]
          },
          "metadata": {},
          "execution_count": 8
        }
      ],
      "source": [
        "# Login to W&B\n",
        "wandb.login()"
      ]
    },
    {
      "cell_type": "code",
      "source": [
        "wandb.init(name=\"multilabel\",project = \"NLP\")"
      ],
      "metadata": {
        "colab": {
          "base_uri": "https://localhost:8080/",
          "height": 108
        },
        "id": "HeBZKHEaoFO7",
        "outputId": "17f9c339-2768-4953-cf64-69763e152d2a"
      },
      "execution_count": 9,
      "outputs": [
        {
          "output_type": "stream",
          "name": "stderr",
          "text": [
            "\u001b[34m\u001b[1mwandb\u001b[0m: Currently logged in as: \u001b[33mteffygeorge\u001b[0m. Use \u001b[1m`wandb login --relogin`\u001b[0m to force relogin\n"
          ]
        },
        {
          "output_type": "display_data",
          "data": {
            "text/plain": [
              "<IPython.core.display.HTML object>"
            ],
            "text/html": [
              "Tracking run with wandb version 0.13.5"
            ]
          },
          "metadata": {}
        },
        {
          "output_type": "display_data",
          "data": {
            "text/plain": [
              "<IPython.core.display.HTML object>"
            ],
            "text/html": [
              "Run data is saved locally in <code>/content/wandb/run-20221109_213818-s7dy4ch5</code>"
            ]
          },
          "metadata": {}
        },
        {
          "output_type": "display_data",
          "data": {
            "text/plain": [
              "<IPython.core.display.HTML object>"
            ],
            "text/html": [
              "Syncing run <strong><a href=\"https://wandb.ai/teffygeorge/NLP/runs/s7dy4ch5\" target=\"_blank\">multilabel</a></strong> to <a href=\"https://wandb.ai/teffygeorge/NLP\" target=\"_blank\">Weights & Biases</a> (<a href=\"https://wandb.me/run\" target=\"_blank\">docs</a>)<br/>"
            ]
          },
          "metadata": {}
        },
        {
          "output_type": "execute_result",
          "data": {
            "text/html": [
              "<button onClick=\"this.nextSibling.style.display='block';this.style.display='none';\">Display W&B run</button><iframe src=\"https://wandb.ai/teffygeorge/NLP/runs/s7dy4ch5?jupyter=true\" style=\"border:none;width:100%;height:420px;display:none;\"></iframe>"
            ],
            "text/plain": [
              "<wandb.sdk.wandb_run.Run at 0x7f434c5b0d50>"
            ]
          },
          "metadata": {},
          "execution_count": 9
        }
      ]
    },
    {
      "cell_type": "markdown",
      "metadata": {
        "id": "J2nAIo5uNxEr"
      },
      "source": [
        "# <Font color = 'pickle'>**Specify Project Folders**"
      ]
    },
    {
      "cell_type": "code",
      "execution_count": 10,
      "metadata": {
        "execution": {
          "iopub.execute_input": "2022-10-02T10:36:21.717528Z",
          "iopub.status.busy": "2022-10-02T10:36:21.716436Z",
          "iopub.status.idle": "2022-10-02T10:36:21.744773Z",
          "shell.execute_reply": "2022-10-02T10:36:21.744138Z",
          "shell.execute_reply.started": "2022-10-02T10:36:21.717511Z"
        },
        "id": "zd6c5IGa_iUl",
        "tags": []
      },
      "outputs": [],
      "source": [
        "# This is the path where we will downlaod and save data\n",
        "if 'google.colab' in str(get_ipython()):\n",
        "  base_folder = Path('/content/drive/MyDrive/NLP/Homework6')\n",
        "else:\n",
        "  base_folder = Path('/content/drive/MyDrive/NLP/Homework6')"
      ]
    },
    {
      "cell_type": "code",
      "execution_count": 11,
      "metadata": {
        "execution": {
          "iopub.execute_input": "2022-10-02T10:36:22.513975Z",
          "iopub.status.busy": "2022-10-02T10:36:22.513801Z",
          "iopub.status.idle": "2022-10-02T10:36:22.537843Z",
          "shell.execute_reply": "2022-10-02T10:36:22.537305Z",
          "shell.execute_reply.started": "2022-10-02T10:36:22.513962Z"
        },
        "id": "Z0yKILuteTDE"
      },
      "outputs": [],
      "source": [
        "data_folder = base_folder/'datasets'\n",
        "model_folder = base_folder/'models'\n",
        "custom_functions = base_folder/'custom-functions'"
      ]
    },
    {
      "cell_type": "code",
      "execution_count": 12,
      "metadata": {
        "execution": {
          "iopub.execute_input": "2022-10-02T10:36:23.464470Z",
          "iopub.status.busy": "2022-10-02T10:36:23.464298Z",
          "iopub.status.idle": "2022-10-02T10:36:23.488166Z",
          "shell.execute_reply": "2022-10-02T10:36:23.487795Z",
          "shell.execute_reply.started": "2022-10-02T10:36:23.464457Z"
        },
        "id": "1i9tdWEkOha8"
      },
      "outputs": [],
      "source": [
        "sys.path.append(str(custom_functions))"
      ]
    },
    {
      "cell_type": "code",
      "execution_count": 13,
      "metadata": {
        "colab": {
          "base_uri": "https://localhost:8080/"
        },
        "execution": {
          "iopub.execute_input": "2022-10-02T10:36:24.115920Z",
          "iopub.status.busy": "2022-10-02T10:36:24.115693Z",
          "iopub.status.idle": "2022-10-02T10:36:24.140715Z",
          "shell.execute_reply": "2022-10-02T10:36:24.140380Z",
          "shell.execute_reply.started": "2022-10-02T10:36:24.115905Z"
        },
        "id": "m8C6e11FOiEX",
        "outputId": "f9c05fd7-61f1-4a94-a921-90fc5a21df7a"
      },
      "outputs": [
        {
          "output_type": "execute_result",
          "data": {
            "text/plain": [
              "['/content',\n",
              " '/env/python',\n",
              " '/usr/lib/python37.zip',\n",
              " '/usr/lib/python3.7',\n",
              " '/usr/lib/python3.7/lib-dynload',\n",
              " '',\n",
              " '/usr/local/lib/python3.7/dist-packages',\n",
              " '/usr/lib/python3/dist-packages',\n",
              " '/usr/local/lib/python3.7/dist-packages/IPython/extensions',\n",
              " '/root/.ipython',\n",
              " '/content/drive/MyDrive/NLP/Homework6/custom-functions']"
            ]
          },
          "metadata": {},
          "execution_count": 13
        }
      ],
      "source": [
        "sys.path"
      ]
    },
    {
      "cell_type": "code",
      "execution_count": 14,
      "metadata": {
        "execution": {
          "iopub.execute_input": "2022-10-02T10:36:34.241275Z",
          "iopub.status.busy": "2022-10-02T10:36:34.241066Z",
          "iopub.status.idle": "2022-10-02T10:36:34.465547Z",
          "shell.execute_reply": "2022-10-02T10:36:34.464959Z",
          "shell.execute_reply.started": "2022-10-02T10:36:34.241261Z"
        },
        "id": "cw-B4qKHOjUC"
      },
      "outputs": [],
      "source": [
        "#import custom_preprocessor as cp"
      ]
    },
    {
      "cell_type": "markdown",
      "metadata": {
        "id": "17xctemopjdA"
      },
      "source": [
        "# <Font color = 'pickle'>**Loading the Dataset**\n",
        "\n"
      ]
    },
    {
      "cell_type": "code",
      "execution_count": 15,
      "metadata": {
        "execution": {
          "iopub.execute_input": "2022-10-02T10:36:46.079612Z",
          "iopub.status.busy": "2022-10-02T10:36:46.079371Z",
          "iopub.status.idle": "2022-10-02T10:36:46.104603Z",
          "shell.execute_reply": "2022-10-02T10:36:46.103997Z",
          "shell.execute_reply.started": "2022-10-02T10:36:46.079597Z"
        },
        "id": "2f94n6S-6YCO"
      },
      "outputs": [],
      "source": [
        "# location of multi label file\n",
        "data_file = data_folder /'df_multilabel_hw.joblib'"
      ]
    },
    {
      "cell_type": "code",
      "source": [
        "data_file"
      ],
      "metadata": {
        "colab": {
          "base_uri": "https://localhost:8080/"
        },
        "id": "USqaEM911E4K",
        "outputId": "b3d8f735-b0eb-458a-e24c-40c987ff5c48"
      },
      "execution_count": 16,
      "outputs": [
        {
          "output_type": "execute_result",
          "data": {
            "text/plain": [
              "PosixPath('/content/drive/MyDrive/NLP/Homework6/datasets/df_multilabel_hw.joblib')"
            ]
          },
          "metadata": {},
          "execution_count": 16
        }
      ]
    },
    {
      "cell_type": "code",
      "source": [
        "multilabel_data = joblib.load(data_file)"
      ],
      "metadata": {
        "id": "4IS6o6o90QqJ"
      },
      "execution_count": 17,
      "outputs": []
    },
    {
      "cell_type": "code",
      "execution_count": 18,
      "metadata": {
        "execution": {
          "iopub.execute_input": "2022-10-02T10:36:46.079612Z",
          "iopub.status.busy": "2022-10-02T10:36:46.079371Z",
          "iopub.status.idle": "2022-10-02T10:36:46.104603Z",
          "shell.execute_reply": "2022-10-02T10:36:46.103997Z",
          "shell.execute_reply.started": "2022-10-02T10:36:46.079597Z"
        },
        "id": "7aFBcB5k0TYK"
      },
      "outputs": [],
      "source": [
        "# location of multi label file\n",
        "# data_file = data_folder /'multilabel_hw_cleaned.csv'"
      ]
    },
    {
      "cell_type": "code",
      "execution_count": 19,
      "metadata": {
        "execution": {
          "iopub.execute_input": "2022-10-02T10:36:46.777569Z",
          "iopub.status.busy": "2022-10-02T10:36:46.777352Z",
          "iopub.status.idle": "2022-10-02T10:36:47.156034Z",
          "shell.execute_reply": "2022-10-02T10:36:47.155560Z",
          "shell.execute_reply.started": "2022-10-02T10:36:46.777555Z"
        },
        "id": "5ggR-K3o6fhY"
      },
      "outputs": [],
      "source": [
        "# creating Pandas Dataframe\n",
        "# multilabel_data = pd.read_csv(data_file, index_col=0)"
      ]
    },
    {
      "cell_type": "code",
      "execution_count": 20,
      "metadata": {
        "colab": {
          "base_uri": "https://localhost:8080/"
        },
        "execution": {
          "iopub.execute_input": "2022-10-02T10:36:47.779375Z",
          "iopub.status.busy": "2022-10-02T10:36:47.779163Z",
          "iopub.status.idle": "2022-10-02T10:36:47.804926Z",
          "shell.execute_reply": "2022-10-02T10:36:47.804508Z",
          "shell.execute_reply.started": "2022-10-02T10:36:47.779361Z"
        },
        "id": "RXYsyw4r7OGb",
        "outputId": "30dfee94-12dc-469b-dd45-cdfb9a4b9ab8"
      },
      "outputs": [
        {
          "output_type": "stream",
          "name": "stdout",
          "text": [
            "Shape of Multilabel data set is : (47427, 7)\n"
          ]
        }
      ],
      "source": [
        "# print shape of the dataset\n",
        "print(f'Shape of Multilabel data set is : {multilabel_data.shape}')"
      ]
    },
    {
      "cell_type": "code",
      "execution_count": 21,
      "metadata": {
        "colab": {
          "base_uri": "https://localhost:8080/",
          "height": 337
        },
        "execution": {
          "iopub.execute_input": "2022-10-02T10:36:52.169775Z",
          "iopub.status.busy": "2022-10-02T10:36:52.169490Z",
          "iopub.status.idle": "2022-10-02T10:36:52.197634Z",
          "shell.execute_reply": "2022-10-02T10:36:52.197211Z",
          "shell.execute_reply.started": "2022-10-02T10:36:52.169761Z"
        },
        "id": "ETuO1KJp7R8W",
        "outputId": "786e89b9-76f9-44fe-ad7e-4a0a4cefad1a"
      },
      "outputs": [
        {
          "output_type": "execute_result",
          "data": {
            "text/plain": [
              "   Unnamed: 0  Unnamed: 0.1       Id  \\\n",
              "0       35264       3589944  3589945   \n",
              "1       56592       5756414  5756415   \n",
              "2       23303       2358596  2358597   \n",
              "3       42563       4332881  4332882   \n",
              "4       58216       5922132  5922133   \n",
              "\n",
              "                                               Title  \\\n",
              "0                     ASP Query String From DropDown   \n",
              "1  How can I run JavaScript code at server side J...   \n",
              "2  linq to sql throwing an exception row not foun...   \n",
              "3            Running a Python script on a PHP server   \n",
              "4  some advice on how to write a window.resize fu...   \n",
              "\n",
              "                                                Body               Tags  \\\n",
              "0  <p>I have a webpage: <strong>Menu.aspx</strong...         c# asp.net   \n",
              "1  <p>I want to run JavaScript code at the server...    java javascript   \n",
              "2  <p>Hi I am linq to sql and i am getting the er...         c# asp.net   \n",
              "3  <p>I am running a nginx web server, along with...         php python   \n",
              "4  <p>Im trying to write a function that resizes ...  javascript jquery   \n",
              "\n",
              "  Tag_Number  \n",
              "0     [0, 9]  \n",
              "1     [1, 3]  \n",
              "2     [0, 9]  \n",
              "3     [2, 7]  \n",
              "4     [3, 5]  "
            ],
            "text/html": [
              "\n",
              "  <div id=\"df-2ac06659-1c3b-486e-8510-65d85138719c\">\n",
              "    <div class=\"colab-df-container\">\n",
              "      <div>\n",
              "<style scoped>\n",
              "    .dataframe tbody tr th:only-of-type {\n",
              "        vertical-align: middle;\n",
              "    }\n",
              "\n",
              "    .dataframe tbody tr th {\n",
              "        vertical-align: top;\n",
              "    }\n",
              "\n",
              "    .dataframe thead th {\n",
              "        text-align: right;\n",
              "    }\n",
              "</style>\n",
              "<table border=\"1\" class=\"dataframe\">\n",
              "  <thead>\n",
              "    <tr style=\"text-align: right;\">\n",
              "      <th></th>\n",
              "      <th>Unnamed: 0</th>\n",
              "      <th>Unnamed: 0.1</th>\n",
              "      <th>Id</th>\n",
              "      <th>Title</th>\n",
              "      <th>Body</th>\n",
              "      <th>Tags</th>\n",
              "      <th>Tag_Number</th>\n",
              "    </tr>\n",
              "  </thead>\n",
              "  <tbody>\n",
              "    <tr>\n",
              "      <th>0</th>\n",
              "      <td>35264</td>\n",
              "      <td>3589944</td>\n",
              "      <td>3589945</td>\n",
              "      <td>ASP Query String From DropDown</td>\n",
              "      <td>&lt;p&gt;I have a webpage: &lt;strong&gt;Menu.aspx&lt;/strong...</td>\n",
              "      <td>c# asp.net</td>\n",
              "      <td>[0, 9]</td>\n",
              "    </tr>\n",
              "    <tr>\n",
              "      <th>1</th>\n",
              "      <td>56592</td>\n",
              "      <td>5756414</td>\n",
              "      <td>5756415</td>\n",
              "      <td>How can I run JavaScript code at server side J...</td>\n",
              "      <td>&lt;p&gt;I want to run JavaScript code at the server...</td>\n",
              "      <td>java javascript</td>\n",
              "      <td>[1, 3]</td>\n",
              "    </tr>\n",
              "    <tr>\n",
              "      <th>2</th>\n",
              "      <td>23303</td>\n",
              "      <td>2358596</td>\n",
              "      <td>2358597</td>\n",
              "      <td>linq to sql throwing an exception row not foun...</td>\n",
              "      <td>&lt;p&gt;Hi I am linq to sql and i am getting the er...</td>\n",
              "      <td>c# asp.net</td>\n",
              "      <td>[0, 9]</td>\n",
              "    </tr>\n",
              "    <tr>\n",
              "      <th>3</th>\n",
              "      <td>42563</td>\n",
              "      <td>4332881</td>\n",
              "      <td>4332882</td>\n",
              "      <td>Running a Python script on a PHP server</td>\n",
              "      <td>&lt;p&gt;I am running a nginx web server, along with...</td>\n",
              "      <td>php python</td>\n",
              "      <td>[2, 7]</td>\n",
              "    </tr>\n",
              "    <tr>\n",
              "      <th>4</th>\n",
              "      <td>58216</td>\n",
              "      <td>5922132</td>\n",
              "      <td>5922133</td>\n",
              "      <td>some advice on how to write a window.resize fu...</td>\n",
              "      <td>&lt;p&gt;Im trying to write a function that resizes ...</td>\n",
              "      <td>javascript jquery</td>\n",
              "      <td>[3, 5]</td>\n",
              "    </tr>\n",
              "  </tbody>\n",
              "</table>\n",
              "</div>\n",
              "      <button class=\"colab-df-convert\" onclick=\"convertToInteractive('df-2ac06659-1c3b-486e-8510-65d85138719c')\"\n",
              "              title=\"Convert this dataframe to an interactive table.\"\n",
              "              style=\"display:none;\">\n",
              "        \n",
              "  <svg xmlns=\"http://www.w3.org/2000/svg\" height=\"24px\"viewBox=\"0 0 24 24\"\n",
              "       width=\"24px\">\n",
              "    <path d=\"M0 0h24v24H0V0z\" fill=\"none\"/>\n",
              "    <path d=\"M18.56 5.44l.94 2.06.94-2.06 2.06-.94-2.06-.94-.94-2.06-.94 2.06-2.06.94zm-11 1L8.5 8.5l.94-2.06 2.06-.94-2.06-.94L8.5 2.5l-.94 2.06-2.06.94zm10 10l.94 2.06.94-2.06 2.06-.94-2.06-.94-.94-2.06-.94 2.06-2.06.94z\"/><path d=\"M17.41 7.96l-1.37-1.37c-.4-.4-.92-.59-1.43-.59-.52 0-1.04.2-1.43.59L10.3 9.45l-7.72 7.72c-.78.78-.78 2.05 0 2.83L4 21.41c.39.39.9.59 1.41.59.51 0 1.02-.2 1.41-.59l7.78-7.78 2.81-2.81c.8-.78.8-2.07 0-2.86zM5.41 20L4 18.59l7.72-7.72 1.47 1.35L5.41 20z\"/>\n",
              "  </svg>\n",
              "      </button>\n",
              "      \n",
              "  <style>\n",
              "    .colab-df-container {\n",
              "      display:flex;\n",
              "      flex-wrap:wrap;\n",
              "      gap: 12px;\n",
              "    }\n",
              "\n",
              "    .colab-df-convert {\n",
              "      background-color: #E8F0FE;\n",
              "      border: none;\n",
              "      border-radius: 50%;\n",
              "      cursor: pointer;\n",
              "      display: none;\n",
              "      fill: #1967D2;\n",
              "      height: 32px;\n",
              "      padding: 0 0 0 0;\n",
              "      width: 32px;\n",
              "    }\n",
              "\n",
              "    .colab-df-convert:hover {\n",
              "      background-color: #E2EBFA;\n",
              "      box-shadow: 0px 1px 2px rgba(60, 64, 67, 0.3), 0px 1px 3px 1px rgba(60, 64, 67, 0.15);\n",
              "      fill: #174EA6;\n",
              "    }\n",
              "\n",
              "    [theme=dark] .colab-df-convert {\n",
              "      background-color: #3B4455;\n",
              "      fill: #D2E3FC;\n",
              "    }\n",
              "\n",
              "    [theme=dark] .colab-df-convert:hover {\n",
              "      background-color: #434B5C;\n",
              "      box-shadow: 0px 1px 3px 1px rgba(0, 0, 0, 0.15);\n",
              "      filter: drop-shadow(0px 1px 2px rgba(0, 0, 0, 0.3));\n",
              "      fill: #FFFFFF;\n",
              "    }\n",
              "  </style>\n",
              "\n",
              "      <script>\n",
              "        const buttonEl =\n",
              "          document.querySelector('#df-2ac06659-1c3b-486e-8510-65d85138719c button.colab-df-convert');\n",
              "        buttonEl.style.display =\n",
              "          google.colab.kernel.accessAllowed ? 'block' : 'none';\n",
              "\n",
              "        async function convertToInteractive(key) {\n",
              "          const element = document.querySelector('#df-2ac06659-1c3b-486e-8510-65d85138719c');\n",
              "          const dataTable =\n",
              "            await google.colab.kernel.invokeFunction('convertToInteractive',\n",
              "                                                     [key], {});\n",
              "          if (!dataTable) return;\n",
              "\n",
              "          const docLinkHtml = 'Like what you see? Visit the ' +\n",
              "            '<a target=\"_blank\" href=https://colab.research.google.com/notebooks/data_table.ipynb>data table notebook</a>'\n",
              "            + ' to learn more about interactive tables.';\n",
              "          element.innerHTML = '';\n",
              "          dataTable['output_type'] = 'display_data';\n",
              "          await google.colab.output.renderOutput(dataTable, element);\n",
              "          const docLink = document.createElement('div');\n",
              "          docLink.innerHTML = docLinkHtml;\n",
              "          element.appendChild(docLink);\n",
              "        }\n",
              "      </script>\n",
              "    </div>\n",
              "  </div>\n",
              "  "
            ]
          },
          "metadata": {},
          "execution_count": 21
        }
      ],
      "source": [
        "multilabel_data.head()"
      ]
    },
    {
      "cell_type": "code",
      "source": [
        "# need to check if spacy needs to be added"
      ],
      "metadata": {
        "id": "RGtdQ9p7nKcB"
      },
      "execution_count": 22,
      "outputs": []
    },
    {
      "cell_type": "code",
      "source": [
        "from sklearn.preprocessing import MultiLabelBinarizer\n",
        "\n",
        "multi_lb = MultiLabelBinarizer()\n",
        "tag_df = pd.DataFrame(multi_lb.fit_transform(multilabel_data['Tag_Number']),columns=multi_lb.classes_)\n",
        "tag_df = tag_df.drop(tag_df.columns[[0, 1, 12, 13]], axis=1) \n",
        "tag_df\n"
      ],
      "metadata": {
        "colab": {
          "base_uri": "https://localhost:8080/",
          "height": 424
        },
        "id": "WAuZAuFJz1tZ",
        "outputId": "36034f2b-380f-479d-ca17-8f98dea3a19d"
      },
      "execution_count": 23,
      "outputs": [
        {
          "output_type": "execute_result",
          "data": {
            "text/plain": [
              "       0  1  2  3  4  5  6  7  8  9\n",
              "0      1  0  0  0  0  0  0  0  0  1\n",
              "1      0  1  0  1  0  0  0  0  0  0\n",
              "2      1  0  0  0  0  0  0  0  0  1\n",
              "3      0  0  1  0  0  0  0  1  0  0\n",
              "4      0  0  0  1  0  1  0  0  0  0\n",
              "...   .. .. .. .. .. .. .. .. .. ..\n",
              "47422  0  1  0  0  1  0  0  0  0  0\n",
              "47423  0  1  0  0  1  0  0  0  0  0\n",
              "47424  0  1  0  0  1  0  0  0  0  0\n",
              "47425  0  0  0  1  0  0  0  0  0  1\n",
              "47426  0  0  0  1  0  1  0  0  0  0\n",
              "\n",
              "[47427 rows x 10 columns]"
            ],
            "text/html": [
              "\n",
              "  <div id=\"df-6a304ada-de78-4a32-9f51-1e10b57c1831\">\n",
              "    <div class=\"colab-df-container\">\n",
              "      <div>\n",
              "<style scoped>\n",
              "    .dataframe tbody tr th:only-of-type {\n",
              "        vertical-align: middle;\n",
              "    }\n",
              "\n",
              "    .dataframe tbody tr th {\n",
              "        vertical-align: top;\n",
              "    }\n",
              "\n",
              "    .dataframe thead th {\n",
              "        text-align: right;\n",
              "    }\n",
              "</style>\n",
              "<table border=\"1\" class=\"dataframe\">\n",
              "  <thead>\n",
              "    <tr style=\"text-align: right;\">\n",
              "      <th></th>\n",
              "      <th>0</th>\n",
              "      <th>1</th>\n",
              "      <th>2</th>\n",
              "      <th>3</th>\n",
              "      <th>4</th>\n",
              "      <th>5</th>\n",
              "      <th>6</th>\n",
              "      <th>7</th>\n",
              "      <th>8</th>\n",
              "      <th>9</th>\n",
              "    </tr>\n",
              "  </thead>\n",
              "  <tbody>\n",
              "    <tr>\n",
              "      <th>0</th>\n",
              "      <td>1</td>\n",
              "      <td>0</td>\n",
              "      <td>0</td>\n",
              "      <td>0</td>\n",
              "      <td>0</td>\n",
              "      <td>0</td>\n",
              "      <td>0</td>\n",
              "      <td>0</td>\n",
              "      <td>0</td>\n",
              "      <td>1</td>\n",
              "    </tr>\n",
              "    <tr>\n",
              "      <th>1</th>\n",
              "      <td>0</td>\n",
              "      <td>1</td>\n",
              "      <td>0</td>\n",
              "      <td>1</td>\n",
              "      <td>0</td>\n",
              "      <td>0</td>\n",
              "      <td>0</td>\n",
              "      <td>0</td>\n",
              "      <td>0</td>\n",
              "      <td>0</td>\n",
              "    </tr>\n",
              "    <tr>\n",
              "      <th>2</th>\n",
              "      <td>1</td>\n",
              "      <td>0</td>\n",
              "      <td>0</td>\n",
              "      <td>0</td>\n",
              "      <td>0</td>\n",
              "      <td>0</td>\n",
              "      <td>0</td>\n",
              "      <td>0</td>\n",
              "      <td>0</td>\n",
              "      <td>1</td>\n",
              "    </tr>\n",
              "    <tr>\n",
              "      <th>3</th>\n",
              "      <td>0</td>\n",
              "      <td>0</td>\n",
              "      <td>1</td>\n",
              "      <td>0</td>\n",
              "      <td>0</td>\n",
              "      <td>0</td>\n",
              "      <td>0</td>\n",
              "      <td>1</td>\n",
              "      <td>0</td>\n",
              "      <td>0</td>\n",
              "    </tr>\n",
              "    <tr>\n",
              "      <th>4</th>\n",
              "      <td>0</td>\n",
              "      <td>0</td>\n",
              "      <td>0</td>\n",
              "      <td>1</td>\n",
              "      <td>0</td>\n",
              "      <td>1</td>\n",
              "      <td>0</td>\n",
              "      <td>0</td>\n",
              "      <td>0</td>\n",
              "      <td>0</td>\n",
              "    </tr>\n",
              "    <tr>\n",
              "      <th>...</th>\n",
              "      <td>...</td>\n",
              "      <td>...</td>\n",
              "      <td>...</td>\n",
              "      <td>...</td>\n",
              "      <td>...</td>\n",
              "      <td>...</td>\n",
              "      <td>...</td>\n",
              "      <td>...</td>\n",
              "      <td>...</td>\n",
              "      <td>...</td>\n",
              "    </tr>\n",
              "    <tr>\n",
              "      <th>47422</th>\n",
              "      <td>0</td>\n",
              "      <td>1</td>\n",
              "      <td>0</td>\n",
              "      <td>0</td>\n",
              "      <td>1</td>\n",
              "      <td>0</td>\n",
              "      <td>0</td>\n",
              "      <td>0</td>\n",
              "      <td>0</td>\n",
              "      <td>0</td>\n",
              "    </tr>\n",
              "    <tr>\n",
              "      <th>47423</th>\n",
              "      <td>0</td>\n",
              "      <td>1</td>\n",
              "      <td>0</td>\n",
              "      <td>0</td>\n",
              "      <td>1</td>\n",
              "      <td>0</td>\n",
              "      <td>0</td>\n",
              "      <td>0</td>\n",
              "      <td>0</td>\n",
              "      <td>0</td>\n",
              "    </tr>\n",
              "    <tr>\n",
              "      <th>47424</th>\n",
              "      <td>0</td>\n",
              "      <td>1</td>\n",
              "      <td>0</td>\n",
              "      <td>0</td>\n",
              "      <td>1</td>\n",
              "      <td>0</td>\n",
              "      <td>0</td>\n",
              "      <td>0</td>\n",
              "      <td>0</td>\n",
              "      <td>0</td>\n",
              "    </tr>\n",
              "    <tr>\n",
              "      <th>47425</th>\n",
              "      <td>0</td>\n",
              "      <td>0</td>\n",
              "      <td>0</td>\n",
              "      <td>1</td>\n",
              "      <td>0</td>\n",
              "      <td>0</td>\n",
              "      <td>0</td>\n",
              "      <td>0</td>\n",
              "      <td>0</td>\n",
              "      <td>1</td>\n",
              "    </tr>\n",
              "    <tr>\n",
              "      <th>47426</th>\n",
              "      <td>0</td>\n",
              "      <td>0</td>\n",
              "      <td>0</td>\n",
              "      <td>1</td>\n",
              "      <td>0</td>\n",
              "      <td>1</td>\n",
              "      <td>0</td>\n",
              "      <td>0</td>\n",
              "      <td>0</td>\n",
              "      <td>0</td>\n",
              "    </tr>\n",
              "  </tbody>\n",
              "</table>\n",
              "<p>47427 rows × 10 columns</p>\n",
              "</div>\n",
              "      <button class=\"colab-df-convert\" onclick=\"convertToInteractive('df-6a304ada-de78-4a32-9f51-1e10b57c1831')\"\n",
              "              title=\"Convert this dataframe to an interactive table.\"\n",
              "              style=\"display:none;\">\n",
              "        \n",
              "  <svg xmlns=\"http://www.w3.org/2000/svg\" height=\"24px\"viewBox=\"0 0 24 24\"\n",
              "       width=\"24px\">\n",
              "    <path d=\"M0 0h24v24H0V0z\" fill=\"none\"/>\n",
              "    <path d=\"M18.56 5.44l.94 2.06.94-2.06 2.06-.94-2.06-.94-.94-2.06-.94 2.06-2.06.94zm-11 1L8.5 8.5l.94-2.06 2.06-.94-2.06-.94L8.5 2.5l-.94 2.06-2.06.94zm10 10l.94 2.06.94-2.06 2.06-.94-2.06-.94-.94-2.06-.94 2.06-2.06.94z\"/><path d=\"M17.41 7.96l-1.37-1.37c-.4-.4-.92-.59-1.43-.59-.52 0-1.04.2-1.43.59L10.3 9.45l-7.72 7.72c-.78.78-.78 2.05 0 2.83L4 21.41c.39.39.9.59 1.41.59.51 0 1.02-.2 1.41-.59l7.78-7.78 2.81-2.81c.8-.78.8-2.07 0-2.86zM5.41 20L4 18.59l7.72-7.72 1.47 1.35L5.41 20z\"/>\n",
              "  </svg>\n",
              "      </button>\n",
              "      \n",
              "  <style>\n",
              "    .colab-df-container {\n",
              "      display:flex;\n",
              "      flex-wrap:wrap;\n",
              "      gap: 12px;\n",
              "    }\n",
              "\n",
              "    .colab-df-convert {\n",
              "      background-color: #E8F0FE;\n",
              "      border: none;\n",
              "      border-radius: 50%;\n",
              "      cursor: pointer;\n",
              "      display: none;\n",
              "      fill: #1967D2;\n",
              "      height: 32px;\n",
              "      padding: 0 0 0 0;\n",
              "      width: 32px;\n",
              "    }\n",
              "\n",
              "    .colab-df-convert:hover {\n",
              "      background-color: #E2EBFA;\n",
              "      box-shadow: 0px 1px 2px rgba(60, 64, 67, 0.3), 0px 1px 3px 1px rgba(60, 64, 67, 0.15);\n",
              "      fill: #174EA6;\n",
              "    }\n",
              "\n",
              "    [theme=dark] .colab-df-convert {\n",
              "      background-color: #3B4455;\n",
              "      fill: #D2E3FC;\n",
              "    }\n",
              "\n",
              "    [theme=dark] .colab-df-convert:hover {\n",
              "      background-color: #434B5C;\n",
              "      box-shadow: 0px 1px 3px 1px rgba(0, 0, 0, 0.15);\n",
              "      filter: drop-shadow(0px 1px 2px rgba(0, 0, 0, 0.3));\n",
              "      fill: #FFFFFF;\n",
              "    }\n",
              "  </style>\n",
              "\n",
              "      <script>\n",
              "        const buttonEl =\n",
              "          document.querySelector('#df-6a304ada-de78-4a32-9f51-1e10b57c1831 button.colab-df-convert');\n",
              "        buttonEl.style.display =\n",
              "          google.colab.kernel.accessAllowed ? 'block' : 'none';\n",
              "\n",
              "        async function convertToInteractive(key) {\n",
              "          const element = document.querySelector('#df-6a304ada-de78-4a32-9f51-1e10b57c1831');\n",
              "          const dataTable =\n",
              "            await google.colab.kernel.invokeFunction('convertToInteractive',\n",
              "                                                     [key], {});\n",
              "          if (!dataTable) return;\n",
              "\n",
              "          const docLinkHtml = 'Like what you see? Visit the ' +\n",
              "            '<a target=\"_blank\" href=https://colab.research.google.com/notebooks/data_table.ipynb>data table notebook</a>'\n",
              "            + ' to learn more about interactive tables.';\n",
              "          element.innerHTML = '';\n",
              "          dataTable['output_type'] = 'display_data';\n",
              "          await google.colab.output.renderOutput(dataTable, element);\n",
              "          const docLink = document.createElement('div');\n",
              "          docLink.innerHTML = docLinkHtml;\n",
              "          element.appendChild(docLink);\n",
              "        }\n",
              "      </script>\n",
              "    </div>\n",
              "  </div>\n",
              "  "
            ]
          },
          "metadata": {},
          "execution_count": 23
        }
      ]
    },
    {
      "cell_type": "code",
      "source": [
        "tag_df.reset_index(drop=True, inplace=True)"
      ],
      "metadata": {
        "id": "p4HJb5wP0UXW"
      },
      "execution_count": 24,
      "outputs": []
    },
    {
      "cell_type": "code",
      "source": [
        "multilabel_data = multilabel_data.drop(['Unnamed: 0','Unnamed: 0.1','Id','Title','Tags','Tag_Number'], axis=1)\n",
        "multilabel_data"
      ],
      "metadata": {
        "colab": {
          "base_uri": "https://localhost:8080/",
          "height": 424
        },
        "id": "9rHQyHnC26q8",
        "outputId": "40dbf2b3-9d2c-493f-bbc7-a48f74a767bd"
      },
      "execution_count": 25,
      "outputs": [
        {
          "output_type": "execute_result",
          "data": {
            "text/plain": [
              "                                                    Body\n",
              "0      <p>I have a webpage: <strong>Menu.aspx</strong...\n",
              "1      <p>I want to run JavaScript code at the server...\n",
              "2      <p>Hi I am linq to sql and i am getting the er...\n",
              "3      <p>I am running a nginx web server, along with...\n",
              "4      <p>Im trying to write a function that resizes ...\n",
              "...                                                  ...\n",
              "47422  <p>All-\\nI am working on an app in which the u...\n",
              "47423  <p>I nee to liste to phone state using phone s...\n",
              "47424  <p>i am using threads to do few tasks. and aft...\n",
              "47425  <p>I have html table with 1 row to fill in job...\n",
              "47426  <p>I have the following code to preload images...\n",
              "\n",
              "[47427 rows x 1 columns]"
            ],
            "text/html": [
              "\n",
              "  <div id=\"df-1006e261-eb26-45c2-ac9b-4fe94ce3992b\">\n",
              "    <div class=\"colab-df-container\">\n",
              "      <div>\n",
              "<style scoped>\n",
              "    .dataframe tbody tr th:only-of-type {\n",
              "        vertical-align: middle;\n",
              "    }\n",
              "\n",
              "    .dataframe tbody tr th {\n",
              "        vertical-align: top;\n",
              "    }\n",
              "\n",
              "    .dataframe thead th {\n",
              "        text-align: right;\n",
              "    }\n",
              "</style>\n",
              "<table border=\"1\" class=\"dataframe\">\n",
              "  <thead>\n",
              "    <tr style=\"text-align: right;\">\n",
              "      <th></th>\n",
              "      <th>Body</th>\n",
              "    </tr>\n",
              "  </thead>\n",
              "  <tbody>\n",
              "    <tr>\n",
              "      <th>0</th>\n",
              "      <td>&lt;p&gt;I have a webpage: &lt;strong&gt;Menu.aspx&lt;/strong...</td>\n",
              "    </tr>\n",
              "    <tr>\n",
              "      <th>1</th>\n",
              "      <td>&lt;p&gt;I want to run JavaScript code at the server...</td>\n",
              "    </tr>\n",
              "    <tr>\n",
              "      <th>2</th>\n",
              "      <td>&lt;p&gt;Hi I am linq to sql and i am getting the er...</td>\n",
              "    </tr>\n",
              "    <tr>\n",
              "      <th>3</th>\n",
              "      <td>&lt;p&gt;I am running a nginx web server, along with...</td>\n",
              "    </tr>\n",
              "    <tr>\n",
              "      <th>4</th>\n",
              "      <td>&lt;p&gt;Im trying to write a function that resizes ...</td>\n",
              "    </tr>\n",
              "    <tr>\n",
              "      <th>...</th>\n",
              "      <td>...</td>\n",
              "    </tr>\n",
              "    <tr>\n",
              "      <th>47422</th>\n",
              "      <td>&lt;p&gt;All-\\nI am working on an app in which the u...</td>\n",
              "    </tr>\n",
              "    <tr>\n",
              "      <th>47423</th>\n",
              "      <td>&lt;p&gt;I nee to liste to phone state using phone s...</td>\n",
              "    </tr>\n",
              "    <tr>\n",
              "      <th>47424</th>\n",
              "      <td>&lt;p&gt;i am using threads to do few tasks. and aft...</td>\n",
              "    </tr>\n",
              "    <tr>\n",
              "      <th>47425</th>\n",
              "      <td>&lt;p&gt;I have html table with 1 row to fill in job...</td>\n",
              "    </tr>\n",
              "    <tr>\n",
              "      <th>47426</th>\n",
              "      <td>&lt;p&gt;I have the following code to preload images...</td>\n",
              "    </tr>\n",
              "  </tbody>\n",
              "</table>\n",
              "<p>47427 rows × 1 columns</p>\n",
              "</div>\n",
              "      <button class=\"colab-df-convert\" onclick=\"convertToInteractive('df-1006e261-eb26-45c2-ac9b-4fe94ce3992b')\"\n",
              "              title=\"Convert this dataframe to an interactive table.\"\n",
              "              style=\"display:none;\">\n",
              "        \n",
              "  <svg xmlns=\"http://www.w3.org/2000/svg\" height=\"24px\"viewBox=\"0 0 24 24\"\n",
              "       width=\"24px\">\n",
              "    <path d=\"M0 0h24v24H0V0z\" fill=\"none\"/>\n",
              "    <path d=\"M18.56 5.44l.94 2.06.94-2.06 2.06-.94-2.06-.94-.94-2.06-.94 2.06-2.06.94zm-11 1L8.5 8.5l.94-2.06 2.06-.94-2.06-.94L8.5 2.5l-.94 2.06-2.06.94zm10 10l.94 2.06.94-2.06 2.06-.94-2.06-.94-.94-2.06-.94 2.06-2.06.94z\"/><path d=\"M17.41 7.96l-1.37-1.37c-.4-.4-.92-.59-1.43-.59-.52 0-1.04.2-1.43.59L10.3 9.45l-7.72 7.72c-.78.78-.78 2.05 0 2.83L4 21.41c.39.39.9.59 1.41.59.51 0 1.02-.2 1.41-.59l7.78-7.78 2.81-2.81c.8-.78.8-2.07 0-2.86zM5.41 20L4 18.59l7.72-7.72 1.47 1.35L5.41 20z\"/>\n",
              "  </svg>\n",
              "      </button>\n",
              "      \n",
              "  <style>\n",
              "    .colab-df-container {\n",
              "      display:flex;\n",
              "      flex-wrap:wrap;\n",
              "      gap: 12px;\n",
              "    }\n",
              "\n",
              "    .colab-df-convert {\n",
              "      background-color: #E8F0FE;\n",
              "      border: none;\n",
              "      border-radius: 50%;\n",
              "      cursor: pointer;\n",
              "      display: none;\n",
              "      fill: #1967D2;\n",
              "      height: 32px;\n",
              "      padding: 0 0 0 0;\n",
              "      width: 32px;\n",
              "    }\n",
              "\n",
              "    .colab-df-convert:hover {\n",
              "      background-color: #E2EBFA;\n",
              "      box-shadow: 0px 1px 2px rgba(60, 64, 67, 0.3), 0px 1px 3px 1px rgba(60, 64, 67, 0.15);\n",
              "      fill: #174EA6;\n",
              "    }\n",
              "\n",
              "    [theme=dark] .colab-df-convert {\n",
              "      background-color: #3B4455;\n",
              "      fill: #D2E3FC;\n",
              "    }\n",
              "\n",
              "    [theme=dark] .colab-df-convert:hover {\n",
              "      background-color: #434B5C;\n",
              "      box-shadow: 0px 1px 3px 1px rgba(0, 0, 0, 0.15);\n",
              "      filter: drop-shadow(0px 1px 2px rgba(0, 0, 0, 0.3));\n",
              "      fill: #FFFFFF;\n",
              "    }\n",
              "  </style>\n",
              "\n",
              "      <script>\n",
              "        const buttonEl =\n",
              "          document.querySelector('#df-1006e261-eb26-45c2-ac9b-4fe94ce3992b button.colab-df-convert');\n",
              "        buttonEl.style.display =\n",
              "          google.colab.kernel.accessAllowed ? 'block' : 'none';\n",
              "\n",
              "        async function convertToInteractive(key) {\n",
              "          const element = document.querySelector('#df-1006e261-eb26-45c2-ac9b-4fe94ce3992b');\n",
              "          const dataTable =\n",
              "            await google.colab.kernel.invokeFunction('convertToInteractive',\n",
              "                                                     [key], {});\n",
              "          if (!dataTable) return;\n",
              "\n",
              "          const docLinkHtml = 'Like what you see? Visit the ' +\n",
              "            '<a target=\"_blank\" href=https://colab.research.google.com/notebooks/data_table.ipynb>data table notebook</a>'\n",
              "            + ' to learn more about interactive tables.';\n",
              "          element.innerHTML = '';\n",
              "          dataTable['output_type'] = 'display_data';\n",
              "          await google.colab.output.renderOutput(dataTable, element);\n",
              "          const docLink = document.createElement('div');\n",
              "          docLink.innerHTML = docLinkHtml;\n",
              "          element.appendChild(docLink);\n",
              "        }\n",
              "      </script>\n",
              "    </div>\n",
              "  </div>\n",
              "  "
            ]
          },
          "metadata": {},
          "execution_count": 25
        }
      ]
    },
    {
      "cell_type": "code",
      "source": [
        "multilabel_data.reset_index(drop=True, inplace=True)"
      ],
      "metadata": {
        "id": "F0Gfb55k2tKx"
      },
      "execution_count": 26,
      "outputs": []
    },
    {
      "cell_type": "code",
      "source": [
        "multilabel_data = pd.concat([multilabel_data, tag_df], axis = 1)\n",
        "multilabel_data"
      ],
      "metadata": {
        "colab": {
          "base_uri": "https://localhost:8080/",
          "height": 424
        },
        "id": "CSy967rU2okc",
        "outputId": "78da7eec-1cbc-43e3-b4f3-aaf24c446d03"
      },
      "execution_count": 27,
      "outputs": [
        {
          "output_type": "execute_result",
          "data": {
            "text/plain": [
              "                                                    Body  0  1  2  3  4  5  6  \\\n",
              "0      <p>I have a webpage: <strong>Menu.aspx</strong...  1  0  0  0  0  0  0   \n",
              "1      <p>I want to run JavaScript code at the server...  0  1  0  1  0  0  0   \n",
              "2      <p>Hi I am linq to sql and i am getting the er...  1  0  0  0  0  0  0   \n",
              "3      <p>I am running a nginx web server, along with...  0  0  1  0  0  0  0   \n",
              "4      <p>Im trying to write a function that resizes ...  0  0  0  1  0  1  0   \n",
              "...                                                  ... .. .. .. .. .. .. ..   \n",
              "47422  <p>All-\\nI am working on an app in which the u...  0  1  0  0  1  0  0   \n",
              "47423  <p>I nee to liste to phone state using phone s...  0  1  0  0  1  0  0   \n",
              "47424  <p>i am using threads to do few tasks. and aft...  0  1  0  0  1  0  0   \n",
              "47425  <p>I have html table with 1 row to fill in job...  0  0  0  1  0  0  0   \n",
              "47426  <p>I have the following code to preload images...  0  0  0  1  0  1  0   \n",
              "\n",
              "       7  8  9  \n",
              "0      0  0  1  \n",
              "1      0  0  0  \n",
              "2      0  0  1  \n",
              "3      1  0  0  \n",
              "4      0  0  0  \n",
              "...   .. .. ..  \n",
              "47422  0  0  0  \n",
              "47423  0  0  0  \n",
              "47424  0  0  0  \n",
              "47425  0  0  1  \n",
              "47426  0  0  0  \n",
              "\n",
              "[47427 rows x 11 columns]"
            ],
            "text/html": [
              "\n",
              "  <div id=\"df-c3c06e9a-1a04-4d48-92a9-cfd92d388cfa\">\n",
              "    <div class=\"colab-df-container\">\n",
              "      <div>\n",
              "<style scoped>\n",
              "    .dataframe tbody tr th:only-of-type {\n",
              "        vertical-align: middle;\n",
              "    }\n",
              "\n",
              "    .dataframe tbody tr th {\n",
              "        vertical-align: top;\n",
              "    }\n",
              "\n",
              "    .dataframe thead th {\n",
              "        text-align: right;\n",
              "    }\n",
              "</style>\n",
              "<table border=\"1\" class=\"dataframe\">\n",
              "  <thead>\n",
              "    <tr style=\"text-align: right;\">\n",
              "      <th></th>\n",
              "      <th>Body</th>\n",
              "      <th>0</th>\n",
              "      <th>1</th>\n",
              "      <th>2</th>\n",
              "      <th>3</th>\n",
              "      <th>4</th>\n",
              "      <th>5</th>\n",
              "      <th>6</th>\n",
              "      <th>7</th>\n",
              "      <th>8</th>\n",
              "      <th>9</th>\n",
              "    </tr>\n",
              "  </thead>\n",
              "  <tbody>\n",
              "    <tr>\n",
              "      <th>0</th>\n",
              "      <td>&lt;p&gt;I have a webpage: &lt;strong&gt;Menu.aspx&lt;/strong...</td>\n",
              "      <td>1</td>\n",
              "      <td>0</td>\n",
              "      <td>0</td>\n",
              "      <td>0</td>\n",
              "      <td>0</td>\n",
              "      <td>0</td>\n",
              "      <td>0</td>\n",
              "      <td>0</td>\n",
              "      <td>0</td>\n",
              "      <td>1</td>\n",
              "    </tr>\n",
              "    <tr>\n",
              "      <th>1</th>\n",
              "      <td>&lt;p&gt;I want to run JavaScript code at the server...</td>\n",
              "      <td>0</td>\n",
              "      <td>1</td>\n",
              "      <td>0</td>\n",
              "      <td>1</td>\n",
              "      <td>0</td>\n",
              "      <td>0</td>\n",
              "      <td>0</td>\n",
              "      <td>0</td>\n",
              "      <td>0</td>\n",
              "      <td>0</td>\n",
              "    </tr>\n",
              "    <tr>\n",
              "      <th>2</th>\n",
              "      <td>&lt;p&gt;Hi I am linq to sql and i am getting the er...</td>\n",
              "      <td>1</td>\n",
              "      <td>0</td>\n",
              "      <td>0</td>\n",
              "      <td>0</td>\n",
              "      <td>0</td>\n",
              "      <td>0</td>\n",
              "      <td>0</td>\n",
              "      <td>0</td>\n",
              "      <td>0</td>\n",
              "      <td>1</td>\n",
              "    </tr>\n",
              "    <tr>\n",
              "      <th>3</th>\n",
              "      <td>&lt;p&gt;I am running a nginx web server, along with...</td>\n",
              "      <td>0</td>\n",
              "      <td>0</td>\n",
              "      <td>1</td>\n",
              "      <td>0</td>\n",
              "      <td>0</td>\n",
              "      <td>0</td>\n",
              "      <td>0</td>\n",
              "      <td>1</td>\n",
              "      <td>0</td>\n",
              "      <td>0</td>\n",
              "    </tr>\n",
              "    <tr>\n",
              "      <th>4</th>\n",
              "      <td>&lt;p&gt;Im trying to write a function that resizes ...</td>\n",
              "      <td>0</td>\n",
              "      <td>0</td>\n",
              "      <td>0</td>\n",
              "      <td>1</td>\n",
              "      <td>0</td>\n",
              "      <td>1</td>\n",
              "      <td>0</td>\n",
              "      <td>0</td>\n",
              "      <td>0</td>\n",
              "      <td>0</td>\n",
              "    </tr>\n",
              "    <tr>\n",
              "      <th>...</th>\n",
              "      <td>...</td>\n",
              "      <td>...</td>\n",
              "      <td>...</td>\n",
              "      <td>...</td>\n",
              "      <td>...</td>\n",
              "      <td>...</td>\n",
              "      <td>...</td>\n",
              "      <td>...</td>\n",
              "      <td>...</td>\n",
              "      <td>...</td>\n",
              "      <td>...</td>\n",
              "    </tr>\n",
              "    <tr>\n",
              "      <th>47422</th>\n",
              "      <td>&lt;p&gt;All-\\nI am working on an app in which the u...</td>\n",
              "      <td>0</td>\n",
              "      <td>1</td>\n",
              "      <td>0</td>\n",
              "      <td>0</td>\n",
              "      <td>1</td>\n",
              "      <td>0</td>\n",
              "      <td>0</td>\n",
              "      <td>0</td>\n",
              "      <td>0</td>\n",
              "      <td>0</td>\n",
              "    </tr>\n",
              "    <tr>\n",
              "      <th>47423</th>\n",
              "      <td>&lt;p&gt;I nee to liste to phone state using phone s...</td>\n",
              "      <td>0</td>\n",
              "      <td>1</td>\n",
              "      <td>0</td>\n",
              "      <td>0</td>\n",
              "      <td>1</td>\n",
              "      <td>0</td>\n",
              "      <td>0</td>\n",
              "      <td>0</td>\n",
              "      <td>0</td>\n",
              "      <td>0</td>\n",
              "    </tr>\n",
              "    <tr>\n",
              "      <th>47424</th>\n",
              "      <td>&lt;p&gt;i am using threads to do few tasks. and aft...</td>\n",
              "      <td>0</td>\n",
              "      <td>1</td>\n",
              "      <td>0</td>\n",
              "      <td>0</td>\n",
              "      <td>1</td>\n",
              "      <td>0</td>\n",
              "      <td>0</td>\n",
              "      <td>0</td>\n",
              "      <td>0</td>\n",
              "      <td>0</td>\n",
              "    </tr>\n",
              "    <tr>\n",
              "      <th>47425</th>\n",
              "      <td>&lt;p&gt;I have html table with 1 row to fill in job...</td>\n",
              "      <td>0</td>\n",
              "      <td>0</td>\n",
              "      <td>0</td>\n",
              "      <td>1</td>\n",
              "      <td>0</td>\n",
              "      <td>0</td>\n",
              "      <td>0</td>\n",
              "      <td>0</td>\n",
              "      <td>0</td>\n",
              "      <td>1</td>\n",
              "    </tr>\n",
              "    <tr>\n",
              "      <th>47426</th>\n",
              "      <td>&lt;p&gt;I have the following code to preload images...</td>\n",
              "      <td>0</td>\n",
              "      <td>0</td>\n",
              "      <td>0</td>\n",
              "      <td>1</td>\n",
              "      <td>0</td>\n",
              "      <td>1</td>\n",
              "      <td>0</td>\n",
              "      <td>0</td>\n",
              "      <td>0</td>\n",
              "      <td>0</td>\n",
              "    </tr>\n",
              "  </tbody>\n",
              "</table>\n",
              "<p>47427 rows × 11 columns</p>\n",
              "</div>\n",
              "      <button class=\"colab-df-convert\" onclick=\"convertToInteractive('df-c3c06e9a-1a04-4d48-92a9-cfd92d388cfa')\"\n",
              "              title=\"Convert this dataframe to an interactive table.\"\n",
              "              style=\"display:none;\">\n",
              "        \n",
              "  <svg xmlns=\"http://www.w3.org/2000/svg\" height=\"24px\"viewBox=\"0 0 24 24\"\n",
              "       width=\"24px\">\n",
              "    <path d=\"M0 0h24v24H0V0z\" fill=\"none\"/>\n",
              "    <path d=\"M18.56 5.44l.94 2.06.94-2.06 2.06-.94-2.06-.94-.94-2.06-.94 2.06-2.06.94zm-11 1L8.5 8.5l.94-2.06 2.06-.94-2.06-.94L8.5 2.5l-.94 2.06-2.06.94zm10 10l.94 2.06.94-2.06 2.06-.94-2.06-.94-.94-2.06-.94 2.06-2.06.94z\"/><path d=\"M17.41 7.96l-1.37-1.37c-.4-.4-.92-.59-1.43-.59-.52 0-1.04.2-1.43.59L10.3 9.45l-7.72 7.72c-.78.78-.78 2.05 0 2.83L4 21.41c.39.39.9.59 1.41.59.51 0 1.02-.2 1.41-.59l7.78-7.78 2.81-2.81c.8-.78.8-2.07 0-2.86zM5.41 20L4 18.59l7.72-7.72 1.47 1.35L5.41 20z\"/>\n",
              "  </svg>\n",
              "      </button>\n",
              "      \n",
              "  <style>\n",
              "    .colab-df-container {\n",
              "      display:flex;\n",
              "      flex-wrap:wrap;\n",
              "      gap: 12px;\n",
              "    }\n",
              "\n",
              "    .colab-df-convert {\n",
              "      background-color: #E8F0FE;\n",
              "      border: none;\n",
              "      border-radius: 50%;\n",
              "      cursor: pointer;\n",
              "      display: none;\n",
              "      fill: #1967D2;\n",
              "      height: 32px;\n",
              "      padding: 0 0 0 0;\n",
              "      width: 32px;\n",
              "    }\n",
              "\n",
              "    .colab-df-convert:hover {\n",
              "      background-color: #E2EBFA;\n",
              "      box-shadow: 0px 1px 2px rgba(60, 64, 67, 0.3), 0px 1px 3px 1px rgba(60, 64, 67, 0.15);\n",
              "      fill: #174EA6;\n",
              "    }\n",
              "\n",
              "    [theme=dark] .colab-df-convert {\n",
              "      background-color: #3B4455;\n",
              "      fill: #D2E3FC;\n",
              "    }\n",
              "\n",
              "    [theme=dark] .colab-df-convert:hover {\n",
              "      background-color: #434B5C;\n",
              "      box-shadow: 0px 1px 3px 1px rgba(0, 0, 0, 0.15);\n",
              "      filter: drop-shadow(0px 1px 2px rgba(0, 0, 0, 0.3));\n",
              "      fill: #FFFFFF;\n",
              "    }\n",
              "  </style>\n",
              "\n",
              "      <script>\n",
              "        const buttonEl =\n",
              "          document.querySelector('#df-c3c06e9a-1a04-4d48-92a9-cfd92d388cfa button.colab-df-convert');\n",
              "        buttonEl.style.display =\n",
              "          google.colab.kernel.accessAllowed ? 'block' : 'none';\n",
              "\n",
              "        async function convertToInteractive(key) {\n",
              "          const element = document.querySelector('#df-c3c06e9a-1a04-4d48-92a9-cfd92d388cfa');\n",
              "          const dataTable =\n",
              "            await google.colab.kernel.invokeFunction('convertToInteractive',\n",
              "                                                     [key], {});\n",
              "          if (!dataTable) return;\n",
              "\n",
              "          const docLinkHtml = 'Like what you see? Visit the ' +\n",
              "            '<a target=\"_blank\" href=https://colab.research.google.com/notebooks/data_table.ipynb>data table notebook</a>'\n",
              "            + ' to learn more about interactive tables.';\n",
              "          element.innerHTML = '';\n",
              "          dataTable['output_type'] = 'display_data';\n",
              "          await google.colab.output.renderOutput(dataTable, element);\n",
              "          const docLink = document.createElement('div');\n",
              "          docLink.innerHTML = docLinkHtml;\n",
              "          element.appendChild(docLink);\n",
              "        }\n",
              "      </script>\n",
              "    </div>\n",
              "  </div>\n",
              "  "
            ]
          },
          "metadata": {},
          "execution_count": 27
        }
      ]
    },
    {
      "cell_type": "markdown",
      "metadata": {
        "id": "bTrbf15aROgj"
      },
      "source": [
        "## <Font color = 'pickle'>**Create Train/Test/Valid Split**\n"
      ]
    },
    {
      "cell_type": "code",
      "execution_count": 28,
      "metadata": {
        "execution": {
          "iopub.execute_input": "2022-10-02T10:36:55.365747Z",
          "iopub.status.busy": "2022-10-02T10:36:55.365469Z",
          "iopub.status.idle": "2022-10-02T10:36:55.390447Z",
          "shell.execute_reply": "2022-10-02T10:36:55.390048Z",
          "shell.execute_reply.started": "2022-10-02T10:36:55.365732Z"
        },
        "id": "AMapwMp88dBO"
      },
      "outputs": [],
      "source": [
        "X, y = multilabel_data['Body'], multilabel_data[['0',\t'1',\t'2',\t'3',\t'4',\t'5',\t'6',\t'7',\t'8',\t'9']].values\n",
        "\n",
        "# set aside 20% for test data for evaluation\n",
        "X_train, X_test, y_train, y_test = train_test_split(X, y, test_size=0.2, shuffle = True, random_state = 42)\n",
        "\n",
        "# Use the same function above for the validation set\n",
        "X_train, X_valid, y_train, y_valid = train_test_split(X_train, y_train, test_size=0.2, random_state= 42) "
      ]
    },
    {
      "cell_type": "markdown",
      "metadata": {
        "id": "yNsbSCsHQkrS"
      },
      "source": [
        "## <Font color = 'pickle'>**Data PreProcessing**"
      ]
    },
    {
      "cell_type": "code",
      "execution_count": 29,
      "metadata": {
        "execution": {
          "iopub.execute_input": "2022-10-02T10:46:58.697995Z",
          "iopub.status.busy": "2022-10-02T10:46:58.697823Z",
          "iopub.status.idle": "2022-10-02T10:46:58.720091Z",
          "shell.execute_reply": "2022-10-02T10:46:58.719642Z",
          "shell.execute_reply.started": "2022-10-02T10:46:58.697982Z"
        },
        "id": "4PBmReT_skM_"
      },
      "outputs": [],
      "source": [
        "# X_train_cleaned_file = data_folder / 'x_train_cleaned_bag_of_words.pkl'\n",
        "# X_valid_cleaned_file = data_folder / 'x_valid_cleaned_bag_of_words..pkl'\n",
        "# X_test_cleaned_file = data_folder / 'x_test_cleaned_bag_of_words..pkl'"
      ]
    },
    {
      "cell_type": "code",
      "execution_count": 30,
      "metadata": {
        "execution": {
          "iopub.execute_input": "2022-10-02T10:46:58.721114Z",
          "iopub.status.busy": "2022-10-02T10:46:58.720953Z",
          "iopub.status.idle": "2022-10-02T10:46:58.900841Z",
          "shell.execute_reply": "2022-10-02T10:46:58.900393Z",
          "shell.execute_reply.started": "2022-10-02T10:46:58.721101Z"
        },
        "id": "nK83ovH1s2jB"
      },
      "outputs": [],
      "source": [
        "# joblib.dump(X_train_cleaned, X_train_cleaned_file)\n",
        "# joblib.dump(X_valid_cleaned, X_valid_cleaned_file)\n",
        "# joblib.dump(X_test_cleaned, X_test_cleaned_file)"
      ]
    },
    {
      "cell_type": "code",
      "source": [
        "X_train.dtype"
      ],
      "metadata": {
        "colab": {
          "base_uri": "https://localhost:8080/"
        },
        "id": "pPxKHBNI6Dlh",
        "outputId": "6e37008f-bed0-4f52-9e0e-5080b3ec71b2"
      },
      "execution_count": 31,
      "outputs": [
        {
          "output_type": "execute_result",
          "data": {
            "text/plain": [
              "dtype('O')"
            ]
          },
          "metadata": {},
          "execution_count": 31
        }
      ]
    },
    {
      "cell_type": "code",
      "execution_count": 32,
      "metadata": {
        "execution": {
          "iopub.execute_input": "2022-10-02T10:46:58.901490Z",
          "iopub.status.busy": "2022-10-02T10:46:58.901353Z",
          "iopub.status.idle": "2022-10-02T10:46:59.008992Z",
          "shell.execute_reply": "2022-10-02T10:46:59.008412Z",
          "shell.execute_reply.started": "2022-10-02T10:46:58.901477Z"
        },
        "id": "WVjfU8JUvDz5"
      },
      "outputs": [],
      "source": [
        "# Teffy - check\n",
        "# X_train_cleaned = joblib.load(X_train)\n",
        "# X_valid_cleaned = joblib.load(X_valid)\n",
        "# X_test_cleaned = joblib.load(X_test)"
      ]
    },
    {
      "cell_type": "code",
      "execution_count": 33,
      "metadata": {
        "execution": {
          "iopub.execute_input": "2022-10-02T10:46:59.009604Z",
          "iopub.status.busy": "2022-10-02T10:46:59.009469Z",
          "iopub.status.idle": "2022-10-02T10:47:03.292582Z",
          "shell.execute_reply": "2022-10-02T10:47:03.292024Z",
          "shell.execute_reply.started": "2022-10-02T10:46:59.009591Z"
        },
        "id": "xx0-0QP48kCH"
      },
      "outputs": [],
      "source": [
        "from sklearn.feature_extraction.text import  TfidfVectorizer\n",
        "\n",
        "vectorizer = TfidfVectorizer(stop_words=\"english\", min_df=4, max_features=5000).fit(X_train)\n",
        "\n",
        "X_train_vec = vectorizer.transform(X_train)\n",
        "X_valid_vec = vectorizer.transform(X_valid)\n",
        "X_test_vec = vectorizer.transform(X_test)"
      ]
    },
    {
      "cell_type": "code",
      "source": [
        "X_train_vec"
      ],
      "metadata": {
        "colab": {
          "base_uri": "https://localhost:8080/"
        },
        "id": "RI89iD5iAgSV",
        "outputId": "afd0476e-90d7-49b2-90f0-31cb910b863a"
      },
      "execution_count": 34,
      "outputs": [
        {
          "output_type": "execute_result",
          "data": {
            "text/plain": [
              "<30352x5000 sparse matrix of type '<class 'numpy.float64'>'\n",
              "\twith 1239683 stored elements in Compressed Sparse Row format>"
            ]
          },
          "metadata": {},
          "execution_count": 34
        }
      ]
    },
    {
      "cell_type": "code",
      "source": [
        "np.array(y_train)"
      ],
      "metadata": {
        "colab": {
          "base_uri": "https://localhost:8080/"
        },
        "id": "G_B9-iId8H8S",
        "outputId": "26e3d736-6dd0-4ac6-f4c0-d285285768c8"
      },
      "execution_count": 35,
      "outputs": [
        {
          "output_type": "execute_result",
          "data": {
            "text/plain": [
              "array([[0, 1, 0, ..., 0, 0, 0],\n",
              "       [0, 0, 0, ..., 0, 0, 0],\n",
              "       [0, 0, 0, ..., 0, 0, 0],\n",
              "       ...,\n",
              "       [0, 0, 0, ..., 0, 0, 0],\n",
              "       [0, 0, 0, ..., 0, 0, 0],\n",
              "       [0, 0, 0, ..., 0, 0, 0]])"
            ]
          },
          "metadata": {},
          "execution_count": 35
        }
      ]
    },
    {
      "cell_type": "code",
      "execution_count": 36,
      "metadata": {
        "execution": {
          "iopub.execute_input": "2022-10-02T10:47:03.293269Z",
          "iopub.status.busy": "2022-10-02T10:47:03.293136Z",
          "iopub.status.idle": "2022-10-02T10:47:04.399367Z",
          "shell.execute_reply": "2022-10-02T10:47:04.398934Z",
          "shell.execute_reply.started": "2022-10-02T10:47:03.293257Z"
        },
        "id": "7HOCek9u9fIR"
      },
      "outputs": [],
      "source": [
        "# Creating a tensors of data\n",
        "X_train_tensor = torch.tensor(X_train_vec.toarray()).float()\n",
        "X_valid_tensor = torch.tensor(X_valid_vec.toarray()).float()\n",
        "X_test_tensor = torch.tensor(X_test_vec.toarray()).float()\n",
        "\n",
        "y_train_tensor = torch.tensor(np.array(y_train)).float()\n",
        "y_valid_tensor = torch.tensor(np.array(y_valid)).float()\n",
        "y_test_tensor = torch.tensor(np.array(y_test)).float()"
      ]
    },
    {
      "cell_type": "markdown",
      "metadata": {
        "id": "FTIKaTsTgvYu"
      },
      "source": [
        "## <Font color = 'pickle'>**Create Tensor Dataset**"
      ]
    },
    {
      "cell_type": "code",
      "execution_count": 37,
      "metadata": {
        "execution": {
          "iopub.execute_input": "2022-10-02T10:48:16.574587Z",
          "iopub.status.busy": "2022-10-02T10:48:16.573804Z",
          "iopub.status.idle": "2022-10-02T10:48:16.598997Z",
          "shell.execute_reply": "2022-10-02T10:48:16.598555Z",
          "shell.execute_reply.started": "2022-10-02T10:48:16.574571Z"
        },
        "id": "R1mKoKSlAxAq"
      },
      "outputs": [],
      "source": [
        "# Creating tensor dataset\n",
        "train_set = torch.utils.data.TensorDataset(X_train_tensor, y_train_tensor)\n",
        "valid_set = torch.utils.data.TensorDataset(X_valid_tensor, y_valid_tensor)\n",
        "test_set = torch.utils.data.TensorDataset(X_test_tensor, y_test_tensor)"
      ]
    },
    {
      "cell_type": "markdown",
      "metadata": {
        "id": "D0ipdb9rXovr"
      },
      "source": [
        "## <Font color = 'pickle'>**Check inputs**"
      ]
    },
    {
      "cell_type": "code",
      "execution_count": 38,
      "metadata": {
        "colab": {
          "base_uri": "https://localhost:8080/"
        },
        "execution": {
          "iopub.execute_input": "2022-10-02T10:52:59.109406Z",
          "iopub.status.busy": "2022-10-02T10:52:59.109192Z",
          "iopub.status.idle": "2022-10-02T10:52:59.134280Z",
          "shell.execute_reply": "2022-10-02T10:52:59.133869Z",
          "shell.execute_reply.started": "2022-10-02T10:52:59.109392Z"
        },
        "id": "4vxxfJKvECDo",
        "outputId": "8187e30c-dcbb-415f-ef9f-5cca7f7b203f"
      },
      "outputs": [
        {
          "output_type": "execute_result",
          "data": {
            "text/plain": [
              "torch.Size([30352, 5000])"
            ]
          },
          "metadata": {},
          "execution_count": 38
        }
      ],
      "source": [
        "# Shape of training data\n",
        "train_set.tensors[0].shape"
      ]
    },
    {
      "cell_type": "code",
      "execution_count": 39,
      "metadata": {
        "colab": {
          "base_uri": "https://localhost:8080/"
        },
        "execution": {
          "iopub.execute_input": "2022-10-02T10:52:59.874010Z",
          "iopub.status.busy": "2022-10-02T10:52:59.873832Z",
          "iopub.status.idle": "2022-10-02T10:52:59.899758Z",
          "shell.execute_reply": "2022-10-02T10:52:59.899374Z",
          "shell.execute_reply.started": "2022-10-02T10:52:59.873996Z"
        },
        "id": "XwMy7OHoCGOd",
        "outputId": "ee01937b-ebd1-4dc5-cd1f-b0a199d06f02"
      },
      "outputs": [
        {
          "output_type": "execute_result",
          "data": {
            "text/plain": [
              "torch.Size([7589, 5000])"
            ]
          },
          "metadata": {},
          "execution_count": 39
        }
      ],
      "source": [
        "# shape of valid data\n",
        "valid_set.tensors[0].shape"
      ]
    },
    {
      "cell_type": "code",
      "execution_count": 40,
      "metadata": {
        "colab": {
          "base_uri": "https://localhost:8080/"
        },
        "execution": {
          "iopub.execute_input": "2022-10-02T10:53:00.511559Z",
          "iopub.status.busy": "2022-10-02T10:53:00.511380Z",
          "iopub.status.idle": "2022-10-02T10:53:00.537464Z",
          "shell.execute_reply": "2022-10-02T10:53:00.537087Z",
          "shell.execute_reply.started": "2022-10-02T10:53:00.511544Z"
        },
        "id": "3tZqFPLLECoJ",
        "outputId": "d639430f-8b55-4cd0-ff77-2c2f1744c8f6"
      },
      "outputs": [
        {
          "output_type": "execute_result",
          "data": {
            "text/plain": [
              "torch.Size([9486, 5000])"
            ]
          },
          "metadata": {},
          "execution_count": 40
        }
      ],
      "source": [
        "# Shape of testing data\n",
        "test_set.tensors[0].shape"
      ]
    },
    {
      "cell_type": "code",
      "execution_count": 41,
      "metadata": {
        "execution": {
          "iopub.execute_input": "2022-10-02T11:35:34.303341Z",
          "iopub.status.busy": "2022-10-02T11:35:34.303104Z",
          "iopub.status.idle": "2022-10-02T11:35:34.327852Z",
          "shell.execute_reply": "2022-10-02T11:35:34.327265Z",
          "shell.execute_reply.started": "2022-10-02T11:35:34.303328Z"
        },
        "colab": {
          "base_uri": "https://localhost:8080/"
        },
        "id": "NoU2GB94gvYv",
        "outputId": "a1e9ad3d-4dc5-4ddb-e2ce-c3be05694fec"
      },
      "outputs": [
        {
          "output_type": "execute_result",
          "data": {
            "text/plain": [
              "torch.Size([30352, 10])"
            ]
          },
          "metadata": {},
          "execution_count": 41
        }
      ],
      "source": [
        "# Sahpe Target values\n",
        "train_set.tensors[1].shape"
      ]
    },
    {
      "cell_type": "code",
      "execution_count": 42,
      "metadata": {
        "colab": {
          "base_uri": "https://localhost:8080/"
        },
        "execution": {
          "iopub.execute_input": "2022-10-02T10:53:01.099027Z",
          "iopub.status.busy": "2022-10-02T10:53:01.098777Z",
          "iopub.status.idle": "2022-10-02T10:53:01.127619Z",
          "shell.execute_reply": "2022-10-02T10:53:01.126897Z",
          "shell.execute_reply.started": "2022-10-02T10:53:01.099011Z"
        },
        "id": "iJxdwS0yECjr",
        "outputId": "2c3ab61c-5665-4cf6-d567-8d700763993a"
      },
      "outputs": [
        {
          "output_type": "execute_result",
          "data": {
            "text/plain": [
              "tensor([0., 1.])"
            ]
          },
          "metadata": {},
          "execution_count": 42
        }
      ],
      "source": [
        "# Unique Target values\n",
        "train_set.tensors[1].unique()"
      ]
    },
    {
      "cell_type": "markdown",
      "metadata": {
        "id": "iQ60WJKlg3bQ"
      },
      "source": [
        "# <font color = 'pickle'> **NN Training**"
      ]
    },
    {
      "cell_type": "markdown",
      "metadata": {
        "id": "GLIXu5RaylkZ"
      },
      "source": [
        "## <Font color = 'pickle'>**Model**"
      ]
    },
    {
      "cell_type": "code",
      "source": [
        "# Define custom model using nn.Module()\n",
        "model = nn.Sequential( nn.Flatten(),\n",
        "                nn.Linear(train_set.tensors[0].shape[1], 512),\n",
        "                    nn.ReLU(),\n",
        "                    nn.Linear(512, 256),\n",
        "                    nn.ReLU(),\n",
        "                    nn.Linear(256, 10),\n",
        "                    nn.Sigmoid())\n",
        "\n",
        "\n",
        "\n",
        "def init_weights(m):\n",
        "  if type(m) == nn.Linear:\n",
        "      torch.nn.init.normal_(m.weight, mean = 0, std = 0.01)\n",
        "      torch.nn.init.zeros_(m.bias)\n",
        "        \n",
        "# apply initialization recursively  to all modules\n",
        "model.apply(init_weights)"
      ],
      "metadata": {
        "colab": {
          "base_uri": "https://localhost:8080/"
        },
        "id": "H967XcGgLW62",
        "outputId": "3bf393c7-e47b-410c-9f00-d29a85fcfbcc"
      },
      "execution_count": 43,
      "outputs": [
        {
          "output_type": "execute_result",
          "data": {
            "text/plain": [
              "Sequential(\n",
              "  (0): Flatten(start_dim=1, end_dim=-1)\n",
              "  (1): Linear(in_features=5000, out_features=512, bias=True)\n",
              "  (2): ReLU()\n",
              "  (3): Linear(in_features=512, out_features=256, bias=True)\n",
              "  (4): ReLU()\n",
              "  (5): Linear(in_features=256, out_features=10, bias=True)\n",
              "  (6): Sigmoid()\n",
              ")"
            ]
          },
          "metadata": {},
          "execution_count": 43
        }
      ]
    },
    {
      "cell_type": "markdown",
      "metadata": {
        "id": "aqI_o6qwy6lb"
      },
      "source": [
        "## <Font color = 'pickle'>**Function for Training  Loops**\n",
        "\n",
        "**Model Training** involves five steps: \n",
        "\n",
        "- Step 0: Randomly initialize parameters / weights\n",
        "- Step 1: Compute model's predictions - forward pass\n",
        "- Step 2: Compute loss\n",
        "- Step 3: Compute the gradients\n",
        "- Step 4: Update the parameters\n",
        "- Step 5: Repeat steps 1 - 4\n",
        "\n",
        "Model training is repeating this process over and over, for many **epochs**.\n",
        "\n",
        "We will specify number of ***epochs*** and during each epoch we will iterate over the complete dataset and will keep on updating the parameters.\n",
        "\n",
        "***Learning rate*** and ***epochs*** are known as hyperparameters. We have to adjust the values of these two based on validation dataset.\n",
        "\n",
        "We will now create functions for step 1 to 4."
      ]
    },
    {
      "cell_type": "code",
      "execution_count": 44,
      "metadata": {
        "execution": {
          "iopub.execute_input": "2022-10-02T10:59:23.824545Z",
          "iopub.status.busy": "2022-10-02T10:59:23.824331Z",
          "iopub.status.idle": "2022-10-02T10:59:23.850384Z",
          "shell.execute_reply": "2022-10-02T10:59:23.849830Z",
          "shell.execute_reply.started": "2022-10-02T10:59:23.824531Z"
        },
        "id": "Pv4x22lZMn5p",
        "tags": []
      },
      "outputs": [],
      "source": [
        "# def train(train_loader, learning_rate, loss_function, model, optimizer):\n",
        "def train(train_loader, model, optimizer, loss_function, log_batch, log_interval, grad_clipping, max_norm):\n",
        "  \"\"\" \n",
        "  Function for training the model in each epoch\n",
        "  Input: iterator for train dataset, weights and bias, number of outputs, learning rate,\n",
        "  loss function, model.\n",
        "  Output: weights, bias, train loss, train accuracy at end of each epoch\n",
        "  \"\"\"\n",
        "\n",
        "  # initilalize variables as global\n",
        "  # these counts will be updated every epoch\n",
        "  global batch_ct_train\n",
        "\n",
        "  # Step 0: Randomly initialize parameters / weights - We give this as input to function for first epoch\n",
        "  # In subsequent epochs the function gets the updated weights from last epoch\n",
        "\n",
        "  # Training Loop \n",
        "  # Initialize train_loss at the he start of the epoch\n",
        "  running_train_loss = 0\n",
        "  running_train_correct = 0\n",
        "  \n",
        "  model.train()\n",
        "  \n",
        "  # Iterate on batches from the dataset using train_loader\n",
        "  for input_, targets in train_loader:\n",
        "    \n",
        "    # move inputs and outputs to GPUs\n",
        "    input_ = input_.to(device)\n",
        "    targets = targets.to(device)\n",
        "\n",
        "\n",
        "    # Step 1: Forward Pass: Compute model's predictions \n",
        "    output = model(input_)\n",
        "    # Teffy - need to check\n",
        "    #output = torch.sigmoid(output)\n",
        "    \n",
        "    # Step 2: Compute loss\n",
        "    loss = loss_function(output, targets)\n",
        "    \n",
        "    # Correct prediction\n",
        "    # y_pred = torch.argmax(output, dim = 0)\n",
        "    # correct = torch.sum(y_pred == targets)\n",
        "        \n",
        "    batch_ct_train += 1\n",
        "\n",
        "    # Step 3: Backward pass -Compute the gradients\n",
        "    optimizer.zero_grad()\n",
        "    loss.backward()\n",
        "\n",
        "     # Gradient Clipping\n",
        "    if grad_clipping:\n",
        "      nn.utils.clip_grad_norm_(model.parameters(), max_norm=max_norm, norm_type=2)\n",
        "\n",
        "    # Step 4: Update the parameters\n",
        "    optimizer.step()\n",
        "          \n",
        "    # Add train loss of a batch \n",
        "    running_train_loss += loss.item()\n",
        "\n",
        "    # Add Corect counts of a batch\n",
        "    # running_train_correct += correct\n",
        "\n",
        "    # log batch loss and accuracy\n",
        "    if log_batch:\n",
        "      if ((batch_ct_train + 1) % log_interval) == 0:\n",
        "        wandb.log({f\"Train Batch Loss  :\": loss})\n",
        "        # wandb.log({f\"Train Batch Acc :\": correct/len(targets)})\n",
        "  \n",
        "  # Calculate mean train loss for the whole dataset for a particular epoch\n",
        "  train_loss = running_train_loss/len(train_loader)\n",
        "\n",
        "  # Calculate accuracy for the whole dataset for a particular epoch\n",
        "  # train_acc = running_train_correct/len(train_loader.dataset)\n",
        "  \n",
        "\n",
        "  return train_loss"
      ]
    },
    {
      "cell_type": "markdown",
      "metadata": {
        "id": "KeLm-GI5bW2V"
      },
      "source": [
        "## <Font color = 'pickle'>**Function for Validation Loops**\n"
      ]
    },
    {
      "cell_type": "code",
      "execution_count": 45,
      "metadata": {
        "execution": {
          "iopub.execute_input": "2022-10-02T10:59:49.737915Z",
          "iopub.status.busy": "2022-10-02T10:59:49.737705Z",
          "iopub.status.idle": "2022-10-02T10:59:49.763493Z",
          "shell.execute_reply": "2022-10-02T10:59:49.762969Z",
          "shell.execute_reply.started": "2022-10-02T10:59:49.737901Z"
        },
        "id": "pHP1WKDessiI",
        "tags": []
      },
      "outputs": [],
      "source": [
        "#def validate(valid_loader, loss_function, model):\n",
        "def validate(valid_loader, model, optimizer, loss_function, log_batch, log_interval):\n",
        "\n",
        "  \"\"\" \n",
        "  Function for calcuilating loss and prediction for validataion dataset. \n",
        "  Input: iterator for validation dataset, estimated weights and bias at the end of epoch in training loop, \n",
        "  learning rate,   loss function, model\n",
        "  Output: val loss and accuracy for each epoch.\n",
        "  \"\"\"\n",
        "  # initilalize variables as global\n",
        "  # these counts will be updated every epoch\n",
        "  global batch_ct_valid\n",
        "\n",
        "  # Validation loop\n",
        "  # Initialize valid_loss at the he strat of the epoch\n",
        "  \n",
        "  running_val_loss = 0\n",
        "  running_val_correct = 0\n",
        "  model.eval()\n",
        "  with torch.no_grad():\n",
        "    for input_,targets in valid_loader:\n",
        "\n",
        "      # move inputs and outputs to GPUs\n",
        "      input_ = input_.to(device)\n",
        "      targets = targets.to(device)\n",
        "\n",
        "      # Step 1: Forward Pass: Compute model's predictions \n",
        "      output = model(input_)\n",
        "      # Teffy - need to check\n",
        "      #output = torch.sigmoid(output)\n",
        "\n",
        "      # Step 2: Compute loss\n",
        "      loss = loss_function(output, targets)\n",
        "\n",
        "      # Correct Predictions\n",
        "      # y_pred = torch.argmax(output, dim = 0)\n",
        "      # correct = torch.sum(y_pred == targets)\n",
        "\n",
        "      batch_ct_valid += 1\n",
        "\n",
        "      # Add val loss of a batch \n",
        "      running_val_loss += loss.item()\n",
        "\n",
        "      # Add correct count for each batch\n",
        "      # running_val_correct += correct\n",
        "\n",
        "      # log batch loss and accuracy\n",
        "      if log_batch:\n",
        "        if ((batch_ct_valid + 1) % log_interval) == 0:\n",
        "          wandb.log({f\"Valid Batch Loss  :\": loss})\n",
        "          # wandb.log({f\"Valid Batch Accuracy :\": correct/len(targets)})\n",
        "\n",
        "    # Calculate mean val loss for the whole dataset for a particular epoch\n",
        "    val_loss = running_val_loss/len(valid_loader)\n",
        "\n",
        "    # Calculate accuracy for the whole dataset for a particular epoch\n",
        "    # val_acc = running_val_correct/len(valid_loader.dataset)\n",
        "    \n",
        "  return val_loss"
      ]
    },
    {
      "cell_type": "markdown",
      "metadata": {
        "id": "UwF70eqE6n_v"
      },
      "source": [
        "## <Font color = 'pickle'>**Function for Model Training**\n",
        "    \n",
        "We will now create a function for step 5 of model training\n"
      ]
    },
    {
      "cell_type": "code",
      "source": [
        "model"
      ],
      "metadata": {
        "colab": {
          "base_uri": "https://localhost:8080/"
        },
        "id": "lyvOg75n5HCN",
        "outputId": "c190f573-d223-45b1-bd7a-2cb0014d96f6"
      },
      "execution_count": 46,
      "outputs": [
        {
          "output_type": "execute_result",
          "data": {
            "text/plain": [
              "Sequential(\n",
              "  (0): Flatten(start_dim=1, end_dim=-1)\n",
              "  (1): Linear(in_features=5000, out_features=512, bias=True)\n",
              "  (2): ReLU()\n",
              "  (3): Linear(in_features=512, out_features=256, bias=True)\n",
              "  (4): ReLU()\n",
              "  (5): Linear(in_features=256, out_features=10, bias=True)\n",
              "  (6): Sigmoid()\n",
              ")"
            ]
          },
          "metadata": {},
          "execution_count": 46
        }
      ]
    },
    {
      "cell_type": "code",
      "execution_count": 47,
      "metadata": {
        "execution": {
          "iopub.execute_input": "2022-10-02T11:00:00.188656Z",
          "iopub.status.busy": "2022-10-02T11:00:00.188458Z",
          "iopub.status.idle": "2022-10-02T11:00:00.214752Z",
          "shell.execute_reply": "2022-10-02T11:00:00.214178Z",
          "shell.execute_reply.started": "2022-10-02T11:00:00.188641Z"
        },
        "id": "KeCKVgg-5FiZ",
        "tags": []
      },
      "outputs": [],
      "source": [
        "#def train_loop(train_loader, valid_loader, model, optimizer, loss_function, epochs, device):\n",
        "def train_loop(train_loader, valid_loader, model,loss_function, optimizer, epochs, device, patience, early_stopping,\n",
        "               file_model):\n",
        "  \"\"\" \n",
        "  Function for training the model and plotting the graph for train & validation loss vs epoch.\n",
        "  Input: iterator for train dataset, initial weights and bias, epochs, learning rate, batch size.\n",
        "  Output: final weights, bias and train loss and validation loss for each epoch.\n",
        "  \"\"\"\n",
        "\n",
        "  # Create lists to store train and val loss at each epoch\n",
        "  train_loss_history = []\n",
        "  valid_loss_history = []\n",
        "  train_acc_history = []\n",
        "  valid_acc_history = []\n",
        "\n",
        "  # initialize variables for early stopping\n",
        "  delta = 0\n",
        "  best_score = None\n",
        "  valid_loss_min = np.Inf\n",
        "  counter_early_stop=0\n",
        "  early_stop=False\n",
        "\n",
        "  # Iterate for the given number of epochs\n",
        "  # Step 5: Repeat steps 1 - 4\n",
        "\n",
        "  for epoch in range(epochs):\n",
        "\n",
        "    # Get train loss and accuracy for one epoch\n",
        "    #train_loss, train_acc = train(train_loader, learning_rate, loss_function, model, optimizer)\n",
        "    #valid_loss, valid_acc   = validate(valid_loader, loss_function, model)\n",
        "    t0 = datetime.now()\n",
        "\n",
        "    # Get train loss and accuracy for one epoch\n",
        "    train_loss = train(train_loader, model, optimizer, loss_function, \n",
        "                                  wandb.config.LOG_BATCH, wandb.config.LOG_INTERVAL,\n",
        "                                  wandb.config.GRAD_CLIPPING, wandb.config.MAX_NORM)\n",
        "    valid_loss   = validate(valid_loader, model, optimizer, loss_function,\n",
        "                                    wandb.config.LOG_BATCH, wandb.config.LOG_INTERVAL)\n",
        "\n",
        "    dt = datetime.now() - t0\n",
        "\n",
        "    # Save history of the Losses and accuracy\n",
        "    train_loss_history.append(train_loss)\n",
        "    # train_acc_history.append(train_acc)\n",
        "\n",
        "    valid_loss_history.append(valid_loss)\n",
        "    # valid_acc_history.append(valid_acc)\n",
        "\n",
        "    # Log the train and valid loss to wandb\n",
        "    wandb.log({f\"Train Loss :\": train_loss})\n",
        "    # wandb.log({f\"Train Acc :\": train_acc})\n",
        "\n",
        "    wandb.log({f\"Valid Loss :\": valid_loss})\n",
        "    # wandb.log({f\"Valid Acc :\": valid_acc})\n",
        "\n",
        "    if early_stopping:\n",
        "      score = -valid_loss\n",
        "      if best_score is None:\n",
        "        best_score=score\n",
        "        print(f'Validation loss has decreased ({valid_loss_min:.6f} --> {valid_loss:.6f}). Saving Model...')\n",
        "        torch.save(model.state_dict(), file_model)\n",
        "        valid_loss_min = valid_loss\n",
        "\n",
        "      elif score < best_score + delta:\n",
        "        counter_early_stop += 1\n",
        "        print(f'Early stoping counter: {counter_early_stop} out of {patience}')\n",
        "        if counter_early_stop > patience:\n",
        "          early_stop = True\n",
        "\n",
        "\n",
        "      else:\n",
        "        best_score = score\n",
        "        print(f'Validation loss has decreased ({valid_loss_min:.6f} --> {valid_loss:.6f}). Saving model...')\n",
        "        torch.save(model.state_dict(), file_model)\n",
        "        counter_early_stop=0\n",
        "        valid_loss_min = valid_loss\n",
        "\n",
        "      if early_stop:\n",
        "        print('Early Stopping')\n",
        "        break\n",
        "\n",
        "    else:\n",
        "\n",
        "      score = -valid_loss\n",
        "      if best_score is None:\n",
        "        best_score=score\n",
        "        print(f'Validation loss has decreased ({valid_loss_min:.6f} --> {valid_loss:.6f}). Saving Model...')\n",
        "        torch.save(model.state_dict(), file_model)\n",
        "        valid_loss_min = valid_loss\n",
        "\n",
        "      elif score < best_score + delta:\n",
        "        print(f'Validation loss has not decreased ({valid_loss_min:.6f} --> {valid_loss:.6f}). Not Saving Model...')\n",
        "      \n",
        "      else:\n",
        "        best_score = score\n",
        "        print(f'Validation loss has decreased ({valid_loss_min:.6f} --> {valid_loss:.6f}). Saving model...')\n",
        "        torch.save(model.state_dict(), file_model)\n",
        "        valid_loss_min = valid_loss\n",
        "\n",
        "    # Print the train loss and accuracy for given number of epochs, batch size and number of samples\n",
        "    print(f'Epoch : {epoch+1} / {epochs}')\n",
        "    # print(f'Train Loss: {train_loss : .4f} | Train Accuracy: {train_acc * 100 : .4f}%')\n",
        "    # print(f'Valid Loss: {valid_loss : .4f} | Valid Accuracy: {valid_acc * 100 : .4f}%')\n",
        "    print()\n",
        "\n",
        "  return train_loss_history, valid_loss_history"
      ]
    },
    {
      "cell_type": "markdown",
      "metadata": {
        "id": "oVk_RctgdPRP"
      },
      "source": [
        "# <Font color = 'pickle'>**Hyperparameters**"
      ]
    },
    {
      "cell_type": "code",
      "source": [
        "device = torch.device('cuda:0' if torch.cuda.is_available() else 'cpu')"
      ],
      "metadata": {
        "id": "XSQk-GAWJSf1"
      },
      "execution_count": 48,
      "outputs": []
    },
    {
      "cell_type": "code",
      "source": [
        "#Hyperparameters\n",
        "from types import SimpleNamespace\n",
        "hyperparameters = SimpleNamespace(\n",
        "    OUTPUT_DIM = 10,\n",
        "    # HIDDEN_SIZES_LIST = [512]+[256], # 100 layers of size 200  [200]*100\n",
        "    #DPROB_LIST = [0.5, 0.5],\n",
        "    NON_LINEARITY= nn.ReLU(),\n",
        "    #BATCH_NORM = True,\n",
        "    EPOCHS = 20,\n",
        "    DEVICE = device,\n",
        "    BATCH_SIZE = 256,\n",
        "    LEARNING_RATE = 0.8,\n",
        "    DATASET=\"MULTILABEL\",\n",
        "    ARCHITECTUREe=\"MultiLabel\",\n",
        "    LOG_INTERVAL = 25,\n",
        "    LOG_BATCH = True,\n",
        "    FILE_MODEL = model_folder/'multilabel',\n",
        "    GRAD_CLIPPING = False,\n",
        "    MAX_NORM = 0,\n",
        "    MOMENTUM = 0,\n",
        "    PATIENCE = 5,\n",
        "    EARLY_STOPPING = False,\n",
        "    # SCHEDULER_FACTOR = 0,\n",
        "    # SCHEDULER_PATIENCE = 0,\n",
        "    WEIGHT_DECAY = 0\n",
        "    )"
      ],
      "metadata": {
        "id": "zl4q5wyBPcR0"
      },
      "execution_count": 49,
      "outputs": []
    },
    {
      "cell_type": "code",
      "source": [
        "# DATA LOADERS"
      ],
      "metadata": {
        "id": "-ehXip7WQjEf"
      },
      "execution_count": 50,
      "outputs": []
    },
    {
      "cell_type": "code",
      "source": [
        "# Initialize a new project\n",
        "import random\n",
        "wandb.init(name = 'Multi Label', project = 'NLP_MLP_multilabel', config = hyperparameters)"
      ],
      "metadata": {
        "colab": {
          "base_uri": "https://localhost:8080/",
          "height": 195
        },
        "id": "R1wQ3vUAQlQp",
        "outputId": "f6b52cbf-215d-43f6-beb1-99a9ad4bcb63"
      },
      "execution_count": 51,
      "outputs": [
        {
          "output_type": "display_data",
          "data": {
            "text/plain": [
              "<IPython.core.display.HTML object>"
            ],
            "text/html": [
              "Finishing last run (ID:s7dy4ch5) before initializing another..."
            ]
          },
          "metadata": {}
        },
        {
          "output_type": "display_data",
          "data": {
            "text/plain": [
              "<IPython.core.display.HTML object>"
            ],
            "text/html": [
              "Waiting for W&B process to finish... <strong style=\"color:green\">(success).</strong>"
            ]
          },
          "metadata": {}
        },
        {
          "output_type": "display_data",
          "data": {
            "text/plain": [
              "<IPython.core.display.HTML object>"
            ],
            "text/html": [
              "Synced <strong style=\"color:#cdcd00\">multilabel</strong>: <a href=\"https://wandb.ai/teffygeorge/NLP/runs/s7dy4ch5\" target=\"_blank\">https://wandb.ai/teffygeorge/NLP/runs/s7dy4ch5</a><br/>Synced 5 W&B file(s), 0 media file(s), 0 artifact file(s) and 0 other file(s)"
            ]
          },
          "metadata": {}
        },
        {
          "output_type": "display_data",
          "data": {
            "text/plain": [
              "<IPython.core.display.HTML object>"
            ],
            "text/html": [
              "Find logs at: <code>./wandb/run-20221109_213818-s7dy4ch5/logs</code>"
            ]
          },
          "metadata": {}
        },
        {
          "output_type": "display_data",
          "data": {
            "text/plain": [
              "<IPython.core.display.HTML object>"
            ],
            "text/html": [
              "Successfully finished last run (ID:s7dy4ch5). Initializing new run:<br/>"
            ]
          },
          "metadata": {}
        },
        {
          "output_type": "display_data",
          "data": {
            "text/plain": [
              "<IPython.core.display.HTML object>"
            ],
            "text/html": [
              "Tracking run with wandb version 0.13.5"
            ]
          },
          "metadata": {}
        },
        {
          "output_type": "display_data",
          "data": {
            "text/plain": [
              "<IPython.core.display.HTML object>"
            ],
            "text/html": [
              "Run data is saved locally in <code>/content/wandb/run-20221109_214014-3k0gvjv3</code>"
            ]
          },
          "metadata": {}
        },
        {
          "output_type": "display_data",
          "data": {
            "text/plain": [
              "<IPython.core.display.HTML object>"
            ],
            "text/html": [
              "Syncing run <strong><a href=\"https://wandb.ai/teffygeorge/NLP_MLP_multilabel/runs/3k0gvjv3\" target=\"_blank\">Multi Label</a></strong> to <a href=\"https://wandb.ai/teffygeorge/NLP_MLP_multilabel\" target=\"_blank\">Weights & Biases</a> (<a href=\"https://wandb.me/run\" target=\"_blank\">docs</a>)<br/>"
            ]
          },
          "metadata": {}
        },
        {
          "output_type": "execute_result",
          "data": {
            "text/html": [
              "<button onClick=\"this.nextSibling.style.display='block';this.style.display='none';\">Display W&B run</button><iframe src=\"https://wandb.ai/teffygeorge/NLP_MLP_multilabel/runs/3k0gvjv3?jupyter=true\" style=\"border:none;width:100%;height:420px;display:none;\"></iframe>"
            ],
            "text/plain": [
              "<wandb.sdk.wandb_run.Run at 0x7f434a4b8590>"
            ]
          },
          "metadata": {},
          "execution_count": 51
        }
      ]
    },
    {
      "cell_type": "code",
      "source": [
        "wandb.config = hyperparameters\n",
        "wandb.config"
      ],
      "metadata": {
        "colab": {
          "base_uri": "https://localhost:8080/"
        },
        "id": "3OClqqmqQwJT",
        "outputId": "7a1a2057-f8fe-4636-bf2c-c8cbd4dde22a"
      },
      "execution_count": 52,
      "outputs": [
        {
          "output_type": "execute_result",
          "data": {
            "text/plain": [
              "namespace(ARCHITECTUREe='MultiLabel', BATCH_SIZE=256, DATASET='MULTILABEL', DEVICE=device(type='cpu'), EARLY_STOPPING=False, EPOCHS=20, FILE_MODEL=PosixPath('/content/drive/MyDrive/NLP/Homework6/models/multilabel'), GRAD_CLIPPING=False, LEARNING_RATE=0.8, LOG_BATCH=True, LOG_INTERVAL=25, MAX_NORM=0, MOMENTUM=0, NON_LINEARITY=ReLU(), OUTPUT_DIM=10, PATIENCE=5, WEIGHT_DECAY=0)"
            ]
          },
          "metadata": {},
          "execution_count": 52
        }
      ]
    },
    {
      "cell_type": "code",
      "source": [
        "from keras import optimizers\n",
        "# Fix seed value\n",
        "SEED = 2345\n",
        "random.seed(SEED)\n",
        "np.random.seed(SEED)\n",
        "torch.manual_seed(SEED)\n",
        "torch.cuda.manual_seed(SEED)\n",
        "torch.backends.cudnn.deterministic = True\n",
        "\n",
        "# Data Loader\n",
        "#train_loader = torch.utils.data.DataLoader(train_set, batch_size=256, shuffle = True)\n",
        "train_loader = torch.utils.data.DataLoader(train_set, batch_size=wandb.config.BATCH_SIZE, shuffle = True)\n",
        "                                         #  collate_fn=collate_batch, num_workers = 4)\n",
        "valid_loader = torch.utils.data.DataLoader(valid_set, batch_size=wandb.config.BATCH_SIZE, shuffle = False) \n",
        "                                          # collate_fn=collate_batch,  num_workers = 4)\n",
        "test_loader = torch.utils.data.DataLoader(test_set, batch_size=wandb.config.BATCH_SIZE,   shuffle = False) \n",
        "                                          #collate_fn=collate_batch,  num_workers = 4)\n",
        "\n",
        "# cross entropy loss function\n",
        "loss_function = nn.BCEWithLogitsLoss()\n",
        "\n",
        "# use GPUs\n",
        "#device = torch.device('cuda:0' if torch.cuda.is_available() else 'cpu')\n",
        "#wandb.config.DEVICE = device\n",
        "#model.to(wandb.config.DEVICE)\n",
        "#model_ = model_multilabel()\n",
        "model.to(device)\n",
        "#model.apply(init_weights)\n",
        "\n",
        "\n",
        "# model \n",
        "#model_multiclass = MLPCustom(wandb.config.EMBED_DIM, \n",
        "#                       wandb.config.VOCAB_SIZE, \n",
        "#                       wandb.config.HIDDEN_SIZES_LIST, \n",
        "#                       wandb.config.DPROB_LIST,\n",
        "#                       wandb.config.OUTPUT_DIM, \n",
        "#                       wandb.config.NON_LINEARITY,\n",
        "#                       wandb.config.BATCH_NORM)\n",
        "\n",
        "# model.to(wandb.config.device)\n",
        "\n",
        "# Intialize stochiastic gradient descent optimizer\n",
        "#optimizer = torch.optim.SGD(model.parameters(), \n",
        "#                             lr = wandb.config.LEARNING_RATE, \n",
        "#                             weight_decay=wandb.config.WEIGHT_DECAY)\n",
        "optimizer = torch.optim.SGD(model.parameters(), lr = wandb.config.LEARNING_RATE)\n",
        "\n",
        "wandb.config.OPTIMIZER = optimizer\n",
        "\n",
        "# scheduler = ReduceLROnPlateau(optimizer, mode='min', factor= wandb.config.scheduler_factor, \n",
        "#                              patience=wandb.config.scheduler_patience, verbose=True)\n",
        "\n",
        "#scheduler = StepLR(optimizer, gamma=0.4,step_size=1, verbose=True)"
      ],
      "metadata": {
        "id": "AvlatMReQ2R9"
      },
      "execution_count": 53,
      "outputs": []
    },
    {
      "cell_type": "markdown",
      "metadata": {
        "id": "e0_zWk0Ib74K"
      },
      "source": [
        "# <Font color = 'pickle'>**Training Model**"
      ]
    },
    {
      "cell_type": "code",
      "execution_count": 54,
      "metadata": {
        "colab": {
          "base_uri": "https://localhost:8080/"
        },
        "execution": {
          "iopub.execute_input": "2022-10-02T11:18:59.063373Z",
          "iopub.status.busy": "2022-10-02T11:18:59.063161Z",
          "iopub.status.idle": "2022-10-02T11:19:10.388677Z",
          "shell.execute_reply": "2022-10-02T11:19:10.388079Z",
          "shell.execute_reply.started": "2022-10-02T11:18:59.063359Z"
        },
        "id": "LckLb_9bhZDw",
        "outputId": "ad2167af-1cb0-476f-8589-329a2c5a7af2",
        "tags": []
      },
      "outputs": [
        {
          "output_type": "stream",
          "name": "stdout",
          "text": [
            "Validation loss has decreased (inf --> 0.762967). Saving Model...\n",
            "Epoch : 1 / 20\n",
            "\n",
            "Validation loss has decreased (0.762967 --> 0.700815). Saving model...\n",
            "Epoch : 2 / 20\n",
            "\n",
            "Validation loss has decreased (0.700815 --> 0.694221). Saving model...\n",
            "Epoch : 3 / 20\n",
            "\n",
            "Validation loss has decreased (0.694221 --> 0.693019). Saving model...\n",
            "Epoch : 4 / 20\n",
            "\n",
            "Validation loss has decreased (0.693019 --> 0.692609). Saving model...\n",
            "Epoch : 5 / 20\n",
            "\n",
            "Validation loss has decreased (0.692609 --> 0.692419). Saving model...\n",
            "Epoch : 6 / 20\n",
            "\n",
            "Validation loss has decreased (0.692419 --> 0.692300). Saving model...\n",
            "Epoch : 7 / 20\n",
            "\n",
            "Validation loss has decreased (0.692300 --> 0.692224). Saving model...\n",
            "Epoch : 8 / 20\n",
            "\n",
            "Validation loss has decreased (0.692224 --> 0.692169). Saving model...\n",
            "Epoch : 9 / 20\n",
            "\n",
            "Validation loss has decreased (0.692169 --> 0.692139). Saving model...\n",
            "Epoch : 10 / 20\n",
            "\n",
            "Validation loss has decreased (0.692139 --> 0.692118). Saving model...\n",
            "Epoch : 11 / 20\n",
            "\n",
            "Validation loss has decreased (0.692118 --> 0.692061). Saving model...\n",
            "Epoch : 12 / 20\n",
            "\n",
            "Validation loss has decreased (0.692061 --> 0.692044). Saving model...\n",
            "Epoch : 13 / 20\n",
            "\n",
            "Validation loss has decreased (0.692044 --> 0.692011). Saving model...\n",
            "Epoch : 14 / 20\n",
            "\n",
            "Validation loss has decreased (0.692011 --> 0.691989). Saving model...\n",
            "Epoch : 15 / 20\n",
            "\n",
            "Validation loss has decreased (0.691989 --> 0.691967). Saving model...\n",
            "Epoch : 16 / 20\n",
            "\n",
            "Validation loss has decreased (0.691967 --> 0.691949). Saving model...\n",
            "Epoch : 17 / 20\n",
            "\n",
            "Validation loss has decreased (0.691949 --> 0.691929). Saving model...\n",
            "Epoch : 18 / 20\n",
            "\n",
            "Validation loss has decreased (0.691929 --> 0.691914). Saving model...\n",
            "Epoch : 19 / 20\n",
            "\n",
            "Validation loss has decreased (0.691914 --> 0.691891). Saving model...\n",
            "Epoch : 20 / 20\n",
            "\n"
          ]
        }
      ],
      "source": [
        "# See live graphs in the notebook.\n",
        "#%%wandb \n",
        "batch_ct_train, batch_ct_valid = 0, 0 \n",
        "train_loss_history, valid_loss_history =train_loop(train_loader, valid_loader, model, loss_function, optimizer, \n",
        "                                                                                          wandb.config.EPOCHS, wandb.config.DEVICE,\n",
        "                                                                                          wandb.config.PATIENCE, wandb.config.EARLY_STOPPING,\n",
        "                                                                                          wandb.config.FILE_MODEL)"
      ]
    },
    {
      "cell_type": "markdown",
      "metadata": {
        "id": "pG8DWY1NfViW"
      },
      "source": [
        "We can observe that with each epoch, our loss is getting reduced."
      ]
    },
    {
      "cell_type": "markdown",
      "metadata": {
        "id": "c-Cj1f2Qb74K"
      },
      "source": [
        "# <Font color = 'pickle'>**Get Accuracy, Predictions**"
      ]
    },
    {
      "cell_type": "markdown",
      "source": [
        "\n",
        "**METRICS USED**\n",
        "\n",
        "*   Unlike multi-class, multi label classes are not mutually exclusive. We will use **multilabel_confusion_matrix** for the confusion matrix after we pass the expected and predicted labels, after binarizing, and get the first element from the list of each class\n",
        "\n",
        "*   Aggregate metrics like macro, micro etc will give a better picture on how the model is performing.The **micro-average** of a metric is calculated by taking in TP, TN, FP and FN for each class, adding them up and then using those to compute the metric’s micro-average\n",
        "\n",
        "*   **Hamming Loss** is a fraction of wrong labels to the total number of labels.It penalizes only the individual labels. The calculation is such that it does an exclusive or (XOR) between the actual and predicted labels and then average across the dataset.Lower this loss, better is the performance.\n",
        "\n",
        "\n",
        "\n"
      ],
      "metadata": {
        "id": "YXV4FxWQf2nY"
      }
    },
    {
      "cell_type": "code",
      "execution_count": 80,
      "metadata": {
        "colab": {
          "base_uri": "https://localhost:8080/"
        },
        "execution": {
          "iopub.execute_input": "2022-10-02T11:19:29.297644Z",
          "iopub.status.busy": "2022-10-02T11:19:29.297419Z",
          "iopub.status.idle": "2022-10-02T11:19:29.322096Z",
          "shell.execute_reply": "2022-10-02T11:19:29.321716Z",
          "shell.execute_reply.started": "2022-10-02T11:19:29.297629Z"
        },
        "id": "dZQF1CbgKEKd",
        "outputId": "000174be-59af-48e2-acb2-5118dc6eeada"
      },
      "outputs": [
        {
          "output_type": "execute_result",
          "data": {
            "text/plain": [
              "device(type='cpu')"
            ]
          },
          "metadata": {},
          "execution_count": 80
        }
      ],
      "source": [
        "device"
      ]
    },
    {
      "cell_type": "code",
      "source": [
        "def get_acc_pred(data_loader, model, device):\n",
        "    \n",
        "  \"\"\" \n",
        "  Function to get predictions and accuracy for a given data using estimated model\n",
        "  Input: Data iterator, Final estimated weoights, bias\n",
        "  Output: Prections and Accuracy for given dataset\n",
        "  \"\"\"\n",
        "\n",
        "  # Array to store predicted labels\n",
        "  predictions = torch.Tensor() # empty tensor\n",
        "  predictions = predictions.to(device) # move predictions to GPU\n",
        "\n",
        "  # Array to store actual labels\n",
        "  y = torch.Tensor() # empty tensor\n",
        "  y = y.to(device)\n",
        "\n",
        "  # put the model in evaluation mode\n",
        "  model.eval()\n",
        "  \n",
        "  # Iterate over batches from data iterator\n",
        "  with torch.no_grad():\n",
        "    for input_, targets, offsets in data_loader:\n",
        "      \n",
        "      # move inputs and outputs to GPUs\n",
        "      \n",
        "      input_ = input_.to(device)\n",
        "      targets = targets.to(device)\n",
        "      offsets = offsets.to(device)\n",
        "      \n",
        "      # Calculated the predicted labels\n",
        "      output = model(input_, offsets)\n",
        "\n",
        "      # Choose the label with maximum probability\n",
        "      prediction = torch.argmax(output, dim = 0)\n",
        "\n",
        "      # Add the predicted labels to the array\n",
        "      predictions = torch.cat((predictions, prediction)) \n",
        "\n",
        "      # Add the actual labels to the array\n",
        "      y = torch.cat((y, targets)) \n",
        "\n",
        "  # Check for complete dataset if actual and predicted labels are same or not\n",
        "  # Calculate accuracy\n",
        "  acc = (predictions == y).float().mean()\n",
        "\n",
        "  # Return tuple containing predictions and accuracy\n",
        "  return predictions, acc"
      ],
      "metadata": {
        "id": "6bYp6Ld9bH7a"
      },
      "execution_count": 76,
      "outputs": []
    },
    {
      "cell_type": "code",
      "source": [
        " !pip install scikit-multilearn"
      ],
      "metadata": {
        "colab": {
          "base_uri": "https://localhost:8080/"
        },
        "id": "7U_Bj0LrVb8T",
        "outputId": "67dd11a7-d2f4-4069-b698-ef48b708bfc4"
      },
      "execution_count": 56,
      "outputs": [
        {
          "output_type": "stream",
          "name": "stdout",
          "text": [
            "Looking in indexes: https://pypi.org/simple, https://us-python.pkg.dev/colab-wheels/public/simple/\n",
            "Collecting scikit-multilearn\n",
            "  Downloading scikit_multilearn-0.2.0-py3-none-any.whl (89 kB)\n",
            "\u001b[K     |████████████████████████████████| 89 kB 3.5 MB/s \n",
            "\u001b[?25hInstalling collected packages: scikit-multilearn\n",
            "Successfully installed scikit-multilearn-0.2.0\n"
          ]
        }
      ]
    },
    {
      "cell_type": "code",
      "source": [
        "from skmultilearn.adapt import MLkNN"
      ],
      "metadata": {
        "id": "Y2IwQvOPVHrP"
      },
      "execution_count": 57,
      "outputs": []
    },
    {
      "cell_type": "code",
      "source": [
        "from sklearn.metrics import hamming_loss"
      ],
      "metadata": {
        "id": "Db6MpYlzDpf0"
      },
      "execution_count": 58,
      "outputs": []
    },
    {
      "cell_type": "code",
      "source": [
        "from sklearn.feature_extraction.text import CountVectorizer\n",
        "from sklearn.feature_extraction.text import TfidfTransformer\n",
        "from sklearn.multiclass import OneVsRestClassifier\n",
        "from sklearn import preprocessing\n",
        "from sklearn.metrics import accuracy_score\n",
        "from sklearn.metrics import precision_recall_curve\n",
        "from sklearn.metrics import average_precision_score\n",
        "import matplotlib.pyplot as plt\n",
        "from sklearn.linear_model import SGDClassifier\n",
        "from sklearn.linear_model import LogisticRegression\n",
        "from sklearn.metrics import f1_score\n",
        "from sklearn.pipeline import make_pipeline"
      ],
      "metadata": {
        "id": "r60pYXDQLTTM"
      },
      "execution_count": 59,
      "outputs": []
    },
    {
      "cell_type": "code",
      "source": [
        "multi_lb_predict = MultiLabelBinarizer()\n",
        "\n",
        "classifier=make_pipeline(CountVectorizer(),\n",
        "\t\t\t\t\t\tTfidfTransformer(),\n",
        "\t\t\t\t\t\tOneVsRestClassifier(SGDClassifier())) "
      ],
      "metadata": {
        "id": "N1AxoaJ4KwEB"
      },
      "execution_count": 60,
      "outputs": []
    },
    {
      "cell_type": "code",
      "source": [
        "random_state = np.random.RandomState(0)"
      ],
      "metadata": {
        "id": "6cYNY5Y1Ltzx"
      },
      "execution_count": 61,
      "outputs": []
    },
    {
      "cell_type": "code",
      "source": [
        "y_test"
      ],
      "metadata": {
        "colab": {
          "base_uri": "https://localhost:8080/"
        },
        "id": "lqUxBW91W2Pf",
        "outputId": "259fe240-6ea9-4530-aaf1-ecef9667c803"
      },
      "execution_count": 68,
      "outputs": [
        {
          "output_type": "execute_result",
          "data": {
            "text/plain": [
              "array([[0, 0, 0, ..., 0, 0, 0],\n",
              "       [0, 0, 1, ..., 0, 0, 1],\n",
              "       [0, 1, 0, ..., 0, 0, 0],\n",
              "       ...,\n",
              "       [0, 0, 0, ..., 0, 0, 1],\n",
              "       [0, 1, 0, ..., 0, 0, 0],\n",
              "       [0, 0, 0, ..., 0, 0, 0]])"
            ]
          },
          "metadata": {},
          "execution_count": 68
        }
      ]
    },
    {
      "cell_type": "code",
      "source": [
        "# Binarize the output classes\n",
        "Y = multi_lb_predict.fit_transform(y_train)\n",
        "Y_test=multi_lb_predict.transform(y_test)\n",
        "\n",
        "classifier.fit(X_train, Y)\n",
        "y_score = classifier.fit(X_train, Y).decision_function(X_test)\n",
        "\n",
        "predicted = classifier.predict(X_test)\n",
        "all_labels = multi_lb_predict.inverse_transform(predicted)\n",
        "\n",
        "#print accuracy_score\n",
        "print (\"accuracy : \"+str(accuracy_score(Y_test, predicted)))\n",
        "\n",
        "print (\"micro f-measure \"+str(f1_score(Y_test, predicted, average='micro')))\n",
        "\n",
        "#for item, labels in zip(X_test, all_labels):\n",
        "#    print ('%s => %s' % (item, ', '.join(labels)))\n",
        "\n",
        "\n",
        "# Compute micro-average ROC curve and ROC area\n",
        "precision_micro, recall_micro, _ = precision_recall_curve(Y_test.ravel(),y_score.ravel())\n",
        "average_precision_micro = average_precision_score(Y_test, y_score,average=\"micro\")\n",
        "\n",
        "print (\"precision : \"+str(precision_micro)+\",recall :\"+str(recall_micro)+\"average precision\"+str(average_precision_micro))"
      ],
      "metadata": {
        "colab": {
          "base_uri": "https://localhost:8080/"
        },
        "id": "9VW-yNXML6TY",
        "outputId": "874ecd56-14a4-4682-9f9d-b3a39d1579bb"
      },
      "execution_count": 62,
      "outputs": [
        {
          "output_type": "stream",
          "name": "stderr",
          "text": [
            "/usr/local/lib/python3.7/dist-packages/sklearn/multiclass.py:80: UserWarning: Label 0 is present in all training examples.\n",
            "  \"Label %s is present in all training examples.\" % str(classes[c])\n",
            "/usr/local/lib/python3.7/dist-packages/sklearn/multiclass.py:80: UserWarning: Label 1 is present in all training examples.\n",
            "  \"Label %s is present in all training examples.\" % str(classes[c])\n",
            "/usr/local/lib/python3.7/dist-packages/sklearn/multiclass.py:80: UserWarning: Label 0 is present in all training examples.\n",
            "  \"Label %s is present in all training examples.\" % str(classes[c])\n",
            "/usr/local/lib/python3.7/dist-packages/sklearn/multiclass.py:80: UserWarning: Label 1 is present in all training examples.\n",
            "  \"Label %s is present in all training examples.\" % str(classes[c])\n"
          ]
        },
        {
          "output_type": "stream",
          "name": "stdout",
          "text": [
            "accuracy : 1.0\n",
            "micro f-measure 1.0\n",
            "precision : [1. 1.],recall :[1. 0.]average precision1.0\n"
          ]
        }
      ]
    },
    {
      "cell_type": "code",
      "source": [
        "#relabel = MultiLabelBinarizer([\"0\", \"1\", \"2\", \"3\", \"4\",\"5\",\"6\",\"7\",\"8\",\"9\"])  # 5 speces\n",
        "hamming_loss(Y_test, y_score)"
      ],
      "metadata": {
        "colab": {
          "base_uri": "https://localhost:8080/"
        },
        "id": "_oLQJmIRdf1Z",
        "outputId": "96b29906-60e9-48ae-cb16-424ccc6308fc"
      },
      "execution_count": 79,
      "outputs": [
        {
          "output_type": "execute_result",
          "data": {
            "text/plain": [
              "0.0"
            ]
          },
          "metadata": {},
          "execution_count": 79
        }
      ]
    },
    {
      "cell_type": "code",
      "source": [
        "# Compute Precision-Recall and plot curve\n",
        "n_classes = Y.shape[1]\n",
        "precision = dict()\n",
        "recall = dict()\n",
        "average_precision = dict()\n",
        "for i in range(n_classes):\n",
        "    print (Y_test[:,i])\n",
        "    print (y_score[:,i])\n",
        "    precision[i], recall[i], _ = precision_recall_curve(Y_test[:, i],\n",
        "                                                        y_score[:, i])\n",
        "    print (precision[i])\n",
        "    average_precision[i] = average_precision_score(Y_test[:, i], y_score[:, i])\n",
        "    print (average_precision[i])\n"
      ],
      "metadata": {
        "colab": {
          "base_uri": "https://localhost:8080/"
        },
        "id": "pwC1WECiM1q0",
        "outputId": "15893050-0c1b-451a-d6b3-2a7019119910"
      },
      "execution_count": 63,
      "outputs": [
        {
          "output_type": "stream",
          "name": "stdout",
          "text": [
            "[1 1 1 ... 1 1 1]\n",
            "[1 1 1 ... 1 1 1]\n",
            "[1. 1.]\n",
            "1.0\n",
            "[1 1 1 ... 1 1 1]\n",
            "[1 1 1 ... 1 1 1]\n",
            "[1. 1.]\n",
            "1.0\n"
          ]
        }
      ]
    },
    {
      "cell_type": "code",
      "source": [
        "# Plot Precision-Recall curve\n",
        "plt.clf()\n",
        "plt.plot(recall[0], precision[0], label='Precision-Recall curve')\n",
        "plt.xlabel('Recall')\n",
        "plt.ylabel('Precision')\n",
        "plt.ylim([0.0, 1.05])\n",
        "plt.xlim([0.0, 1.0])\n",
        "plt.title('Precision-Recall example: AUC={0:0.2f}'.format(average_precision[0]))\n",
        "plt.legend(loc=\"lower left\")\n",
        "plt.show()"
      ],
      "metadata": {
        "colab": {
          "base_uri": "https://localhost:8080/",
          "height": 295
        },
        "id": "OHvc69zAM6UJ",
        "outputId": "a140146e-1090-4982-9945-66dbd6bfbc74"
      },
      "execution_count": 64,
      "outputs": [
        {
          "output_type": "display_data",
          "data": {
            "text/plain": [
              "<Figure size 432x288 with 1 Axes>"
            ],
            "image/png": "[encoded data removed]"
          },
          "metadata": {
            "needs_background": "light"
          }
        }
      ]
    },
    {
      "cell_type": "code",
      "source": [
        "\n",
        "# Plot Precision-Recall curve for each class\n",
        "plt.clf()\n",
        "plt.plot(recall_micro, precision_micro,\n",
        "         label='micro-average Precision-recall curve (area = {0:0.2f})'\n",
        "               ''.format(average_precision_micro))\n",
        "for i in range(n_classes):\n",
        "    plt.plot(recall[i], precision[i],\n",
        "             label='Precision-recall curve of class {0} (area = {1:0.2f})'\n",
        "                   ''.format(i, average_precision[i]))\n",
        "\n",
        "plt.xlim([0.0, 1.0])\n",
        "plt.ylim([0.0, 1.05])\n",
        "plt.xlabel('Recall')\n",
        "plt.ylabel('Precision')\n",
        "plt.title('Extension of Precision-Recall curve to multi-class')\n",
        "plt.legend(loc=\"lower right\")\n",
        "plt.show()"
      ],
      "metadata": {
        "colab": {
          "base_uri": "https://localhost:8080/",
          "height": 295
        },
        "id": "tA2gzTzIM-gE",
        "outputId": "347d5f61-b4e0-4bfa-fa0b-6e14b9d68139"
      },
      "execution_count": 65,
      "outputs": [
        {
          "output_type": "display_data",
          "data": {
            "text/plain": [
              "<Figure size 432x288 with 1 Axes>"
            ],
            "image/png": "[encoded data removed]"
          },
          "metadata": {
            "needs_background": "light"
          }
        }
      ]
    },
    {
      "cell_type": "markdown",
      "metadata": {
        "id": "caRp4G3ov5fp"
      },
      "source": [
        "# <Font color = 'pickle'>**Confusion Matrix for Test Data**"
      ]
    },
    {
      "cell_type": "code",
      "source": [
        "from sklearn.metrics import multilabel_confusion_matrix"
      ],
      "metadata": {
        "id": "M0WmA-mDL5uv"
      },
      "execution_count": 69,
      "outputs": []
    },
    {
      "cell_type": "code",
      "source": [
        "multilabel_confusion_matrix(Y_test,predicted)"
      ],
      "metadata": {
        "colab": {
          "base_uri": "https://localhost:8080/"
        },
        "id": "wOs_-NySLs3V",
        "outputId": "586783a2-4a34-4bd2-98eb-0b175f29a396"
      },
      "execution_count": 70,
      "outputs": [
        {
          "output_type": "execute_result",
          "data": {
            "text/plain": [
              "array([[[   0,    0],\n",
              "        [   0, 9486]],\n",
              "\n",
              "       [[   0,    0],\n",
              "        [   0, 9486]]])"
            ]
          },
          "metadata": {},
          "execution_count": 70
        }
      ]
    },
    {
      "cell_type": "code",
      "source": [
        "multilabel_confusion_matrix(Y_test,predicted)"
      ],
      "metadata": {
        "colab": {
          "base_uri": "https://localhost:8080/"
        },
        "outputId": "586783a2-4a34-4bd2-98eb-0b175f29a396",
        "id": "GGkmrGWWad1d"
      },
      "execution_count": null,
      "outputs": [
        {
          "output_type": "execute_result",
          "data": {
            "text/plain": [
              "array([[[   0,    0],\n",
              "        [   0, 9486]],\n",
              "\n",
              "       [[   0,    0],\n",
              "        [   0, 9486]]])"
            ]
          },
          "metadata": {},
          "execution_count": 70
        }
      ]
    },
    {
      "cell_type": "code",
      "execution_count": 73,
      "metadata": {
        "colab": {
          "base_uri": "https://localhost:8080/",
          "height": 433
        },
        "execution": {
          "iopub.execute_input": "2022-10-02T11:37:35.481530Z",
          "iopub.status.busy": "2022-10-02T11:37:35.481317Z",
          "iopub.status.idle": "2022-10-02T11:37:40.670611Z",
          "shell.execute_reply": "2022-10-02T11:37:40.670287Z",
          "shell.execute_reply.started": "2022-10-02T11:37:35.481517Z"
        },
        "id": "jIlsxRdPHZYa",
        "outputId": "18880de7-2bc3-45f8-897f-2b86736e37cd",
        "tags": []
      },
      "outputs": [
        {
          "output_type": "display_data",
          "data": {
            "text/plain": [
              "<IPython.core.display.HTML object>"
            ],
            "text/html": [
              "Waiting for W&B process to finish... <strong style=\"color:green\">(success).</strong>"
            ]
          },
          "metadata": {}
        },
        {
          "output_type": "display_data",
          "data": {
            "text/plain": [
              "<IPython.core.display.HTML object>"
            ],
            "text/html": [
              "<style>\n",
              "    table.wandb td:nth-child(1) { padding: 0 10px; text-align: left ; width: auto;} td:nth-child(2) {text-align: left ; width: 100%}\n",
              "    .wandb-row { display: flex; flex-direction: row; flex-wrap: wrap; justify-content: flex-start; width: 100% }\n",
              "    .wandb-col { display: flex; flex-direction: column; flex-basis: 100%; flex: 1; padding: 10px; }\n",
              "    </style>\n",
              "<div class=\"wandb-row\"><div class=\"wandb-col\"><h3>Run history:</h3><br/><table class=\"wandb\"><tr><td>Train Batch Loss  :</td><td>█▆▄▂▁▁▁▁▁▁▁▁▁▁▁▁▁▁▁▁▁▁▁▁▁▁▁▁▁▁▁▁▁▁▁▁▁▁▁▁</td></tr><tr><td>Train Loss :</td><td>█▃▁▁▁▁▁▁▁▁▁▁▁▁▁▁▁▁▁▁</td></tr><tr><td>Valid Batch Loss  :</td><td>█▂▁▁▁▁▁▁▁▁▁▁▁▁▁▁▁▁▁▁▁▁▁▁</td></tr><tr><td>Valid Loss :</td><td>█▂▁▁▁▁▁▁▁▁▁▁▁▁▁▁▁▁▁▁</td></tr></table><br/></div><div class=\"wandb-col\"><h3>Run summary:</h3><br/><table class=\"wandb\"><tr><td>Train Batch Loss  :</td><td>0.69202</td></tr><tr><td>Train Loss :</td><td>0.6917</td></tr><tr><td>Valid Batch Loss  :</td><td>0.69206</td></tr><tr><td>Valid Loss :</td><td>0.69189</td></tr></table><br/></div></div>"
            ]
          },
          "metadata": {}
        },
        {
          "output_type": "display_data",
          "data": {
            "text/plain": [
              "<IPython.core.display.HTML object>"
            ],
            "text/html": [
              "Synced <strong style=\"color:#cdcd00\">Multi Label</strong>: <a href=\"https://wandb.ai/teffygeorge/NLP_MLP_multilabel/runs/3k0gvjv3\" target=\"_blank\">https://wandb.ai/teffygeorge/NLP_MLP_multilabel/runs/3k0gvjv3</a><br/>Synced 5 W&B file(s), 0 media file(s), 0 artifact file(s) and 0 other file(s)"
            ]
          },
          "metadata": {}
        },
        {
          "output_type": "display_data",
          "data": {
            "text/plain": [
              "<IPython.core.display.HTML object>"
            ],
            "text/html": [
              "Find logs at: <code>./wandb/run-20221109_214014-3k0gvjv3/logs</code>"
            ]
          },
          "metadata": {}
        }
      ],
      "source": [
        "wandb.finish()"
      ]
    }
  ],
  "metadata": {
    "accelerator": "GPU",
    "colab": {
      "collapsed_sections": [],
      "machine_shape": "hm",
      "provenance": [],
      "toc_visible": true
    },
    "gpuClass": "standard",
    "kernelspec": {
      "display_name": "Python 3 (ipykernel)",
      "language": "python",
      "name": "python3"
    },
    "language_info": {
      "codemirror_mode": {
        "name": "ipython",
        "version": 3
      },
      "file_extension": ".py",
      "mimetype": "text/x-python",
      "name": "python",
      "nbconvert_exporter": "python",
      "pygments_lexer": "ipython3",
      "version": "3.9.13"
    }
  },
  "nbformat": 4,
  "nbformat_minor": 0
}